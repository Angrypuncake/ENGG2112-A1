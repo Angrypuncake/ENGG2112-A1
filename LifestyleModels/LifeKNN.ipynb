{
 "cells": [
  {
   "cell_type": "markdown",
   "metadata": {},
   "source": [
    "KNN benefits more from STANDARD SCALING!"
   ]
  },
  {
   "cell_type": "code",
   "execution_count": 3,
   "metadata": {},
   "outputs": [],
   "source": [
    "from sklearn.model_selection import train_test_split, GridSearchCV\n",
    "from sklearn.neighbors import KNeighborsClassifier\n",
    "from sklearn.pipeline import Pipeline\n",
    "from sklearn.metrics import classification_report, accuracy_score\n",
    "from sklearn.compose import ColumnTransformer\n",
    "from sklearn.preprocessing import StandardScaler, OneHotEncoder\n",
    "import pandas as pd\n",
    "\n",
    "\n",
    "#KNN benefits more from using STANDARD_SCALER \n",
    "lifestyle_data = pd.read_csv('../datasets/lifestyle_dataset.csv')\n",
    "\n",
    "# Split the 'Blood Pressure' column into 'Systolic_BP' and 'Diastolic_BP'\n",
    "blood_pressure_split = lifestyle_data['Blood Pressure'].str.split('/', expand=True)\n",
    "lifestyle_data['Systolic_BP'] = pd.to_numeric(blood_pressure_split[0], errors='coerce')\n",
    "lifestyle_data['Diastolic_BP'] = pd.to_numeric(blood_pressure_split[1], errors='coerce')\n",
    "\n",
    "# Drop the original 'Blood Pressure' column\n",
    "lifestyle_data = lifestyle_data.drop(columns=['Blood Pressure'])\n",
    "\n",
    "# Dropping additional columns from the lifestyle dataset\n",
    "columns_to_remove = ['Hemisphere', 'Patient ID', 'Income', 'Continent', 'Country']\n",
    "lifestyle_data = lifestyle_data.drop(columns=columns_to_remove)\n",
    "\n",
    "# Preprocessing the lifestyle dataset by dropping the output column\n",
    "Xlifestyle = lifestyle_data.drop('Heart Attack Risk', axis=1)\n",
    "Ylifestyle = lifestyle_data['Heart Attack Risk']\n",
    "\n",
    "# Identify categorical columns\n",
    "categorical_columns = ['Sex']\n",
    "\n",
    "# Identify numeric columns for scaling\n",
    "numeric_columns = Xlifestyle.select_dtypes(include=['float64', 'int64']).columns.difference(['Systolic_BP', 'Diastolic_BP'])\n",
    "blood_pressure_columns = ['Systolic_BP', 'Diastolic_BP']\n",
    "\n"
   ]
  },
  {
   "cell_type": "code",
   "execution_count": 4,
   "metadata": {},
   "outputs": [
    {
     "name": "stdout",
     "output_type": "stream",
     "text": [
      "Best Hyperparameters:  {'knn__metric': 'euclidean', 'knn__n_neighbors': 11, 'knn__weights': 'uniform'}\n",
      "Best Cross-validation Accuracy: 0.61\n",
      "Test Accuracy: 0.59\n",
      "Classification Report:\n",
      "               precision    recall  f1-score   support\n",
      "\n",
      "           0       0.63      0.83      0.72      1125\n",
      "           1       0.32      0.14      0.19       628\n",
      "\n",
      "    accuracy                           0.59      1753\n",
      "   macro avg       0.48      0.49      0.46      1753\n",
      "weighted avg       0.52      0.59      0.53      1753\n",
      "\n"
     ]
    }
   ],
   "source": [
    "# Split the data into training and testing sets (using the original Xlifestyle DataFrame)\n",
    "X_train, X_test, Y_train, Y_test = train_test_split(Xlifestyle, Ylifestyle, test_size=0.2, random_state=42)\n",
    "\n",
    "# Recreate the ColumnTransformer to be used in the pipeline\n",
    "life_robust_scaled_preprocessor = ColumnTransformer(\n",
    "    transformers=[\n",
    "        ('num', StandardScaler(), numeric_columns),  # Standard scale selected numerical columns\n",
    "        ('bp', StandardScaler(), blood_pressure_columns),\n",
    "        ('cat', OneHotEncoder(), categorical_columns)  # One-hot encode categorical columns\n",
    "    ]\n",
    ")\n",
    "\n",
    "# Define the KNN model\n",
    "knn = KNeighborsClassifier()\n",
    "\n",
    "# Create a pipeline that includes the preprocessor and the KNN classifier\n",
    "pipeline = Pipeline(steps=[\n",
    "    ('preprocessor', life_robust_scaled_preprocessor),\n",
    "    ('knn', knn)\n",
    "])\n",
    "\n",
    "# Define the hyperparameters to tune\n",
    "param_grid = {\n",
    "    'knn__n_neighbors': [3, 5, 7, 9, 11],           # Number of neighbors\n",
    "    'knn__weights': ['uniform', 'distance'],        # Weighting function\n",
    "    'knn__metric': ['euclidean', 'manhattan', 'minkowski']  # Distance metric\n",
    "}\n",
    "\n",
    "# Set up GridSearchCV with cross-validation\n",
    "grid_search = GridSearchCV(pipeline, param_grid, cv=5, scoring='accuracy', n_jobs=-1)\n",
    "\n",
    "# Fit the model\n",
    "grid_search.fit(X_train, Y_train)\n",
    "\n",
    "# Get the best parameters and the best score from GridSearchCV\n",
    "print(\"Best Hyperparameters: \", grid_search.best_params_)\n",
    "print(\"Best Cross-validation Accuracy: {:.2f}\".format(grid_search.best_score_))\n",
    "\n",
    "# Evaluate the model on the test set\n",
    "Y_pred = grid_search.predict(X_test)\n",
    "accuracy = accuracy_score(Y_test, Y_pred)\n",
    "\n",
    "# Print the classification report\n",
    "print(\"Test Accuracy: {:.2f}\".format(accuracy))\n",
    "print(\"Classification Report:\\n\", classification_report(Y_test, Y_pred))"
   ]
  },
  {
   "cell_type": "markdown",
   "metadata": {},
   "source": []
  }
 ],
 "metadata": {
  "kernelspec": {
   "display_name": "base",
   "language": "python",
   "name": "python3"
  },
  "language_info": {
   "codemirror_mode": {
    "name": "ipython",
    "version": 3
   },
   "file_extension": ".py",
   "mimetype": "text/x-python",
   "name": "python",
   "nbconvert_exporter": "python",
   "pygments_lexer": "ipython3",
   "version": "3.12.4"
  }
 },
 "nbformat": 4,
 "nbformat_minor": 2
}
