{
 "cells": [
  {
   "cell_type": "code",
   "execution_count": 17,
   "metadata": {},
   "outputs": [],
   "source": [
    "import pandas as pd\n",
    "from sklearn.preprocessing import StandardScaler\n",
    "from sklearn.model_selection import train_test_split, cross_val_score\n",
    "from sklearn.linear_model import LogisticRegression\n",
    "from sklearn.neighbors import KNeighborsClassifier\n",
    "from sklearn.ensemble import RandomForestClassifier\n",
    "from sklearn.metrics import accuracy_score, precision_score, recall_score"
   ]
  },
  {
   "cell_type": "markdown",
   "metadata": {},
   "source": [
    "Loads the data, preprocesses and uses KNN, logistical regression and random forest model\n",
    "\n",
    "Random Forest model won't even finish so that needs to be optimised for it to work"
   ]
  },
  {
   "cell_type": "code",
   "execution_count": 18,
   "metadata": {},
   "outputs": [
    {
     "name": "stdout",
     "output_type": "stream",
     "text": [
      "   age  sex  cp  trtbps  chol  fbs  restecg  thalachh  exng  oldpeak  slp  \\\n",
      "0   63    1   3     145   233    1        0       150     0      2.3    0   \n",
      "1   37    1   2     130   250    0        1       187     0      3.5    0   \n",
      "2   41    0   1     130   204    0        0       172     0      1.4    2   \n",
      "3   56    1   1     120   236    0        1       178     0      0.8    2   \n",
      "4   57    0   0     120   354    0        1       163     1      0.6    2   \n",
      "\n",
      "   caa  thall  output  \n",
      "0    0      1       1  \n",
      "1    0      2       1  \n",
      "2    0      2       1  \n",
      "3    0      2       1  \n",
      "4    0      2       1  \n",
      "  Patient ID  Age     Sex  Cholesterol Blood Pressure  Heart Rate  Diabetes  \\\n",
      "0    BMW7812   67    Male          208         158/88          72         0   \n",
      "1    CZE1114   21    Male          389         165/93          98         1   \n",
      "2    BNI9906   21  Female          324         174/99          72         1   \n",
      "3    JLN3497   84    Male          383        163/100          73         1   \n",
      "4    GFO8847   66    Male          318          91/88          93         1   \n",
      "\n",
      "   Family History  Smoking  Obesity  ...  Sedentary Hours Per Day  Income  \\\n",
      "0               0        1        0  ...                 6.615001  261404   \n",
      "1               1        1        1  ...                 4.963459  285768   \n",
      "2               0        0        0  ...                 9.463426  235282   \n",
      "3               1        1        0  ...                 7.648981  125640   \n",
      "4               1        1        1  ...                 1.514821  160555   \n",
      "\n",
      "         BMI  Triglycerides  Physical Activity Days Per Week  \\\n",
      "0  31.251233            286                                0   \n",
      "1  27.194973            235                                1   \n",
      "2  28.176571            587                                4   \n",
      "3  36.464704            378                                3   \n",
      "4  21.809144            231                                1   \n",
      "\n",
      "   Sleep Hours Per Day    Country      Continent           Hemisphere  \\\n",
      "0                    6  Argentina  South America  Southern Hemisphere   \n",
      "1                    7     Canada  North America  Northern Hemisphere   \n",
      "2                    4     France         Europe  Northern Hemisphere   \n",
      "3                    4     Canada  North America  Northern Hemisphere   \n",
      "4                    5   Thailand           Asia  Northern Hemisphere   \n",
      "\n",
      "   Heart Attack Risk  \n",
      "0                  0  \n",
      "1                  0  \n",
      "2                  0  \n",
      "3                  0  \n",
      "4                  0  \n",
      "\n",
      "[5 rows x 26 columns]\n"
     ]
    }
   ],
   "source": [
    "# Load data\n",
    "clinical_data = pd.read_csv('datasets/clinical_dataset.csv')\n",
    "lifestyle_data = pd.read_csv('datasets/lifestyle_dataset.csv')\n",
    "\n",
    "# View basic information\n",
    "print(clinical_data.head())\n",
    "print(lifestyle_data.head())"
   ]
  },
  {
   "cell_type": "code",
   "execution_count": 19,
   "metadata": {},
   "outputs": [],
   "source": [
    "# Preprocessing the lifestyle dataset by dropping the output column\n",
    "Xlifestyle = lifestyle_data.drop('Heart Attack Risk', axis=1)\n",
    "Ylifestyle = lifestyle_data['Heart Attack Risk']\n",
    "\n",
    "# Preprocessing the clinical dataset by dropping the output column\n",
    "Xclinical = clinical_data.drop('output', axis=1)\n",
    "Yclinical = clinical_data['output']\n",
    "\n",
    "# Convert categorical columns to numeric using one-hot encoding before splitting\n",
    "Xlifestyle_encoded = pd.get_dummies(Xlifestyle, drop_first=True)\n",
    "Xclinical_encoded = pd.get_dummies(Xclinical, drop_first=True)"
   ]
  },
  {
   "cell_type": "markdown",
   "metadata": {},
   "source": [
    "The dataset is barely processed, might need handling of NULL rows and better handling of categorical columns "
   ]
  },
  {
   "cell_type": "code",
   "execution_count": 20,
   "metadata": {},
   "outputs": [],
   "source": [
    "# Re-split the datasets after encoding\n",
    "Xlife_train, Xlife_test, ylife_train, ylife_test = train_test_split(Xlifestyle_encoded, Ylifestyle, test_size=0.2, random_state=42)\n",
    "Xclin_train, Xclin_test, yclin_train, yclin_test = train_test_split(Xclinical_encoded, Yclinical, test_size=0.2, random_state=42)\n",
    "\n",
    "# Scaling the features\n",
    "scaler = StandardScaler()\n",
    "Xlife_train_scaled = scaler.fit_transform(Xlife_train)\n",
    "Xlife_test_scaled = scaler.transform(Xlife_test)\n",
    "Xclin_train_scaled = scaler.fit_transform(Xclin_train)\n",
    "Xclin_test_scaled = scaler.transform(Xclin_test)"
   ]
  },
  {
   "cell_type": "markdown",
   "metadata": {},
   "source": [
    "Using logistical regression, KNN and random forest models "
   ]
  },
  {
   "cell_type": "code",
   "execution_count": 21,
   "metadata": {},
   "outputs": [],
   "source": [
    "# Initialise models\n",
    "logistic_model = LogisticRegression()\n",
    "knn_model = KNeighborsClassifier()\n",
    "random_forest_model = RandomForestClassifier()"
   ]
  },
  {
   "cell_type": "code",
   "execution_count": 22,
   "metadata": {},
   "outputs": [
    {
     "name": "stdout",
     "output_type": "stream",
     "text": [
      "Logistic Regression CV Accuracy: 0.4643366619115549\n"
     ]
    }
   ],
   "source": [
    "# Perform 5-fold cross-validation for each model ----- LIFESTYLE DATA\n",
    "life_logistic_cv = cross_val_score(logistic_model, Xlife_train_scaled, ylife_train, cv=5, scoring='accuracy')\n",
    "print(f'Logistic Regression CV Accuracy: {life_logistic_cv.mean()}')\n"
   ]
  },
  {
   "cell_type": "code",
   "execution_count": 23,
   "metadata": {},
   "outputs": [
    {
     "name": "stdout",
     "output_type": "stream",
     "text": [
      "KNN CV Accuracy: 0.6319543509272469\n"
     ]
    }
   ],
   "source": [
    "life_knn_cv = cross_val_score(knn_model, Xlife_train_scaled, ylife_train, cv=5, scoring='accuracy')\n",
    "print(f'KNN CV Accuracy: {life_knn_cv.mean()}')\n"
   ]
  },
  {
   "cell_type": "markdown",
   "metadata": {},
   "source": [
    "Random Forest takes super long (Probably wont ever finish), not recommended running this at the moment"
   ]
  },
  {
   "cell_type": "code",
   "execution_count": 24,
   "metadata": {},
   "outputs": [],
   "source": [
    "# life_rf_cv = cross_val_score(random_forest_model, Xlife_train_scaled, ylife_train, cv=5, scoring='accuracy')\n",
    "# print(f'Random Forest CV Accuracy: {life_rf_cv.mean()}')"
   ]
  },
  {
   "cell_type": "code",
   "execution_count": 25,
   "metadata": {},
   "outputs": [
    {
     "name": "stdout",
     "output_type": "stream",
     "text": [
      "Logistic Regression CV Accuracy: 0.8180272108843537\n"
     ]
    }
   ],
   "source": [
    "# Perform 5-fold cross-validation for each model ----- CLINICAL DATA\n",
    "clin_logistic_cv = cross_val_score(logistic_model, Xclin_train_scaled, yclin_train, cv=5, scoring='accuracy')\n",
    "print(f'Logistic Regression CV Accuracy: {clin_logistic_cv.mean()}')"
   ]
  },
  {
   "cell_type": "code",
   "execution_count": 26,
   "metadata": {},
   "outputs": [
    {
     "name": "stdout",
     "output_type": "stream",
     "text": [
      "KNN CV Accuracy: 0.8141156462585034\n"
     ]
    }
   ],
   "source": [
    "clin_knn_cv = cross_val_score(knn_model, Xclin_train_scaled, yclin_train, cv=5, scoring='accuracy')\n",
    "print(f'KNN CV Accuracy: {clin_knn_cv.mean()}')"
   ]
  },
  {
   "cell_type": "code",
   "execution_count": 27,
   "metadata": {},
   "outputs": [],
   "source": [
    "# RANDOM FOREST: NEEDS TO BE OPTIMISED\n",
    "# clin_rf_cv = cross_val_score(random_forest_model, Xclin_train_scaled, yclin_train, cv=5, scoring='accuracy')\n",
    "# print(f'Random Forest CV Accuracy: {clin_rf_cv.mean()}')"
   ]
  },
  {
   "cell_type": "code",
   "execution_count": 28,
   "metadata": {},
   "outputs": [
    {
     "name": "stdout",
     "output_type": "stream",
     "text": [
      "Logistic Regression Test Accuracy (Lifestyle): 0.5887050770108385\n",
      "Logistic Regression Test Accuracy (Clinical): 0.8524590163934426\n"
     ]
    }
   ],
   "source": [
    "# Test set evaluation\n",
    "logistic_model = LogisticRegression()\n",
    "logistic_model.fit(Xlife_train_scaled, ylife_train)\n",
    "y_pred_life_log = logistic_model.predict(Xlife_test_scaled)\n",
    "print(f'Logistic Regression Test Accuracy (Lifestyle): {accuracy_score(ylife_test, y_pred_life_log)}')\n",
    "logistic_model.fit(Xclin_train_scaled, yclin_train)\n",
    "y_pred_clin_log = logistic_model.predict(Xclin_test_scaled)\n",
    "print(f'Logistic Regression Test Accuracy (Clinical): {accuracy_score(yclin_test, y_pred_clin_log)}')"
   ]
  },
  {
   "cell_type": "markdown",
   "metadata": {},
   "source": [
    "The lifestyle dataset consistently does alot worse than the lifestyle dataset. \n",
    "Might suggest that logistical regression is not recommended for lifestyle dataset"
   ]
  },
  {
   "cell_type": "code",
   "execution_count": 29,
   "metadata": {},
   "outputs": [
    {
     "name": "stdout",
     "output_type": "stream",
     "text": [
      "KNN Test Accuracy (Lifestyle): 0.6326297775242442\n",
      "KNN Test Accuracy (Clinical): 0.9016393442622951\n"
     ]
    }
   ],
   "source": [
    "# KNN on Lifestyle data\n",
    "knn_model.fit(Xlife_train_scaled, ylife_train)\n",
    "y_pred_life_knn = knn_model.predict(Xlife_test_scaled)\n",
    "print(f'KNN Test Accuracy (Lifestyle): {accuracy_score(ylife_test, y_pred_life_knn)}')\n",
    "\n",
    "# KNN on Clinical data\n",
    "knn_model.fit(Xclin_train_scaled, yclin_train)\n",
    "y_pred_clin_knn = knn_model.predict(Xclin_test_scaled)\n",
    "print(f'KNN Test Accuracy (Clinical): {accuracy_score(yclin_test, y_pred_clin_knn)}')\n"
   ]
  },
  {
   "cell_type": "markdown",
   "metadata": {},
   "source": [
    "The lifestyle dataset also does horrible for KNN than Clinical data\n",
    "It is worthwhile to explore a few things\n",
    "1. Were many categorical columns/features or even rows lost during preprocessing?\n",
    "2. Is the Lifestyle dataset much smaller or larger than the Clinical set?\n",
    "3. How could features from the lifestyle set have impacted this\n",
    "4. Could random forest or SVP and MLP find more complex relationships with the lifestyle dataset?"
   ]
  }
 ],
 "metadata": {
  "kernelspec": {
   "display_name": "Python 3",
   "language": "python",
   "name": "python3"
  },
  "language_info": {
   "codemirror_mode": {
    "name": "ipython",
    "version": 3
   },
   "file_extension": ".py",
   "mimetype": "text/x-python",
   "name": "python",
   "nbconvert_exporter": "python",
   "pygments_lexer": "ipython3",
   "version": "3.12.4"
  }
 },
 "nbformat": 4,
 "nbformat_minor": 2
}
