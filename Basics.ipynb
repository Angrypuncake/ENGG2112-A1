{
 "cells": [
  {
   "cell_type": "markdown",
   "metadata": {},
   "source": [
    "NoteBook version of Basics.py"
   ]
  },
  {
   "cell_type": "code",
   "execution_count": null,
   "metadata": {},
   "outputs": [],
   "source": [
    "import pandas as pd\n",
    "from sklearn.preprocessing import StandardScaler\n",
    "from sklearn.model_selection import train_test_split, cross_val_score\n",
    "from sklearn.linear_model import LogisticRegression\n",
    "from sklearn.neighbors import KNeighborsClassifier\n",
    "from sklearn.ensemble import RandomForestClassifier\n",
    "from sklearn.metrics import accuracy_score, precision_score, recall_score"
   ]
  },
  {
   "cell_type": "markdown",
   "metadata": {},
   "source": [
    "Loads the data, preprocesses and uses KNN, logistical regression and random forest model\n",
    "It will take a long time to finish training the models so we need to boost performance somehow\n",
    "Or we can delegate each model into a separate python file"
   ]
  },
  {
   "cell_type": "code",
   "execution_count": null,
   "metadata": {},
   "outputs": [],
   "source": [
    "# Load data\n",
    "clinical_data = pd.read_csv('datasets/clinical_dataset.csv')\n",
    "lifestyle_data = pd.read_csv('datasets/lifestyle_dataset.csv')\n",
    "\n",
    "# View basic information\n",
    "print(clinical_data.head())\n",
    "print(lifestyle_data.head())"
   ]
  },
  {
   "cell_type": "code",
   "execution_count": null,
   "metadata": {},
   "outputs": [],
   "source": [
    "# Preprocessing the lifestyle dataset by dropping the output column\n",
    "Xlifestyle = lifestyle_data.drop('Heart Attack Risk', axis=1)\n",
    "Ylifestyle = lifestyle_data['Heart Attack Risk']\n",
    "\n",
    "# Preprocessing the clinical dataset by dropping the output column\n",
    "Xclinical = clinical_data.drop('output', axis=1)\n",
    "Yclinical = clinical_data['output']\n",
    "\n",
    "# Convert categorical columns to numeric using one-hot encoding before splitting\n",
    "Xlifestyle_encoded = pd.get_dummies(Xlifestyle, drop_first=True)\n",
    "Xclinical_encoded = pd.get_dummies(Xclinical, drop_first=True)"
   ]
  },
  {
   "cell_type": "code",
   "execution_count": null,
   "metadata": {},
   "outputs": [],
   "source": [
    "# Re-split the datasets after encoding\n",
    "Xlife_train, Xlife_test, ylife_train, ylife_test = train_test_split(Xlifestyle_encoded, Ylifestyle, test_size=0.2, random_state=42)\n",
    "Xclin_train, Xclin_test, yclin_train, yclin_test = train_test_split(Xclinical_encoded, Yclinical, test_size=0.2, random_state=42)\n",
    "\n",
    "# Scaling the features\n",
    "scaler = StandardScaler()\n",
    "Xlife_train_scaled = scaler.fit_transform(Xlife_train)\n",
    "Xlife_test_scaled = scaler.transform(Xlife_test)\n",
    "Xclin_train_scaled = scaler.fit_transform(Xclin_train)\n",
    "Xclin_test_scaled = scaler.transform(Xclin_test)"
   ]
  },
  {
   "cell_type": "markdown",
   "metadata": {},
   "source": [
    "Using logistical regression, KNN and random forest models "
   ]
  },
  {
   "cell_type": "code",
   "execution_count": null,
   "metadata": {},
   "outputs": [],
   "source": [
    "# Initialise models\n",
    "logistic_model = LogisticRegression()\n",
    "knn_model = KNeighborsClassifier()\n",
    "random_forest_model = RandomForestClassifier()"
   ]
  },
  {
   "cell_type": "code",
   "execution_count": null,
   "metadata": {},
   "outputs": [],
   "source": [
    "# Perform 5-fold cross-validation for each model ----- LIFESTYLE DATA\n",
    "life_logistic_cv = cross_val_score(logistic_model, Xlife_train_scaled, ylife_train, cv=5, scoring='accuracy')\n",
    "life_knn_cv = cross_val_score(knn_model, Xlife_train_scaled, ylife_train, cv=5, scoring='accuracy')\n",
    "life_rf_cv = cross_val_score(random_forest_model, Xlife_train_scaled, ylife_train, cv=5, scoring='accuracy')\n",
    "\n",
    "# Print cross-validation results\n",
    "print(\"Accuracy results for Lifestyle data\\n\")\n",
    "print(f'Logistic Regression CV Accuracy: {life_logistic_cv.mean()}')\n",
    "print(f'KNN CV Accuracy: {life_knn_cv.mean()}')\n",
    "print(f'Random Forest CV Accuracy: {life_rf_cv.mean()}')"
   ]
  },
  {
   "cell_type": "code",
   "execution_count": null,
   "metadata": {},
   "outputs": [],
   "source": [
    "# Perform 5-fold cross-validation for each model ----- CLINICAL DATA\n",
    "clin_logistic_cv = cross_val_score(logistic_model, Xclin_train_scaled, yclin_train, cv=5, scoring='accuracy')\n",
    "clin_knn_cv = cross_val_score(knn_model, Xclin_train_scaled, yclin_train, cv=5, scoring='accuracy')\n",
    "clin_rf_cv = cross_val_score(random_forest_model, Xclin_train_scaled, yclin_train, cv=5, scoring='accuracy')\n",
    "\n",
    "print(\"\\nAccuracy results for Clinical data\\n\")\n",
    "print(f'Logistic Regression CV Accuracy: {clin_logistic_cv.mean()}')\n",
    "print(f'KNN CV Accuracy: {clin_knn_cv.mean()}')\n",
    "print(f'Random Forest CV Accuracy: {clin_rf_cv.mean()}')"
   ]
  },
  {
   "cell_type": "code",
   "execution_count": null,
   "metadata": {},
   "outputs": [],
   "source": [
    "# Test set evaluation\n",
    "logistic_model = LogisticRegression()\n",
    "logistic_model.fit(Xlife_train_scaled, ylife_train)\n",
    "y_pred_life_log = logistic_model.predict(Xlife_test_scaled)\n",
    "print(f'Logistic Regression Test Accuracy (Lifestyle): {accuracy_score(ylife_test, y_pred_life_log)}')\n",
    "logistic_model.fit(Xclin_train_scaled, yclin_train)\n",
    "y_pred_clin_log = logistic_model.predict(Xclin_test_scaled)\n",
    "print(f'Logistic Regression Test Accuracy (Clinical): {accuracy_score(yclin_test, y_pred_clin_log)}')"
   ]
  },
  {
   "cell_type": "code",
   "execution_count": null,
   "metadata": {},
   "outputs": [],
   "source": []
  }
 ],
 "metadata": {
  "language_info": {
   "name": "python"
  }
 },
 "nbformat": 4,
 "nbformat_minor": 2
}
