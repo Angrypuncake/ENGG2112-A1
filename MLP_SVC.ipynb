{
 "cells": [
  {
   "cell_type": "code",
   "execution_count": 1,
   "metadata": {},
   "outputs": [],
   "source": [
    "# import pandas as pd\n",
    "# from sklearn.preprocessing import StandardScaler\n",
    "# from sklearn.model_selection import train_test_split\n",
    "# from sklearn.decomposition import PCA\n",
    "# from sklearn.metrics import accuracy_score, classification_report\n",
    "\n",
    "# # Load the datasets\n",
    "# clinical_data = pd.read_csv('datasets/clinical_dataset.csv')\n",
    "# lifestyle_data = pd.read_csv('datasets/lifestyle_dataset.csv')\n",
    "\n",
    "# # Preprocessing the lifestyle dataset by dropping the output column\n",
    "# Xlifestyle = lifestyle_data.drop('Heart Attack Risk', axis=1)\n",
    "# Ylifestyle = lifestyle_data['Heart Attack Risk']\n",
    "\n",
    "# # Preprocessing the clinical dataset by dropping the output column\n",
    "# Xclinical = clinical_data.drop('output', axis=1)\n",
    "# Yclinical = clinical_data['output']\n",
    "\n",
    "# # Convert categorical columns to numeric using one-hot encoding before splitting\n",
    "# Xlifestyle_encoded = pd.get_dummies(Xlifestyle, drop_first=True)\n",
    "# Xclinical_encoded = pd.get_dummies(Xclinical, drop_first=True)"
   ]
  },
  {
   "cell_type": "markdown",
   "metadata": {},
   "source": [
    "New preprocessed data "
   ]
  },
  {
   "cell_type": "code",
   "execution_count": 2,
   "metadata": {},
   "outputs": [
    {
     "name": "stdout",
     "output_type": "stream",
     "text": [
      "   age  sex  cp  trtbps  chol  fbs  restecg  thalachh  exng  oldpeak  slp  \\\n",
      "0   63    1   3     145   233    1        0       150     0      2.3    0   \n",
      "1   37    1   2     130   250    0        1       187     0      3.5    0   \n",
      "2   41    0   1     130   204    0        0       172     0      1.4    2   \n",
      "3   56    1   1     120   236    0        1       178     0      0.8    2   \n",
      "4   57    0   0     120   354    0        1       163     1      0.6    2   \n",
      "\n",
      "   caa  thall  output  \n",
      "0    0      1       1  \n",
      "1    0      2       1  \n",
      "2    0      2       1  \n",
      "3    0      2       1  \n",
      "4    0      2       1  \n",
      "  Patient ID  Age     Sex  Cholesterol Blood Pressure  Heart Rate  Diabetes  \\\n",
      "0    BMW7812   67    Male          208         158/88          72         0   \n",
      "1    CZE1114   21    Male          389         165/93          98         1   \n",
      "2    BNI9906   21  Female          324         174/99          72         1   \n",
      "3    JLN3497   84    Male          383        163/100          73         1   \n",
      "4    GFO8847   66    Male          318          91/88          93         1   \n",
      "\n",
      "   Family History  Smoking  Obesity  ...  Sedentary Hours Per Day  Income  \\\n",
      "0               0        1        0  ...                 6.615001  261404   \n",
      "1               1        1        1  ...                 4.963459  285768   \n",
      "2               0        0        0  ...                 9.463426  235282   \n",
      "3               1        1        0  ...                 7.648981  125640   \n",
      "4               1        1        1  ...                 1.514821  160555   \n",
      "\n",
      "         BMI  Triglycerides  Physical Activity Days Per Week  \\\n",
      "0  31.251233            286                                0   \n",
      "1  27.194973            235                                1   \n",
      "2  28.176571            587                                4   \n",
      "3  36.464704            378                                3   \n",
      "4  21.809144            231                                1   \n",
      "\n",
      "   Sleep Hours Per Day    Country      Continent           Hemisphere  \\\n",
      "0                    6  Argentina  South America  Southern Hemisphere   \n",
      "1                    7     Canada  North America  Northern Hemisphere   \n",
      "2                    4     France         Europe  Northern Hemisphere   \n",
      "3                    4     Canada  North America  Northern Hemisphere   \n",
      "4                    5   Thailand           Asia  Northern Hemisphere   \n",
      "\n",
      "   Heart Attack Risk  \n",
      "0                  0  \n",
      "1                  0  \n",
      "2                  0  \n",
      "3                  0  \n",
      "4                  0  \n",
      "\n",
      "[5 rows x 26 columns]\n",
      "   Age     Sex  Cholesterol Blood Pressure  Heart Rate  Diabetes  \\\n",
      "0   67    Male          208         158/88          72         0   \n",
      "1   21    Male          389         165/93          98         1   \n",
      "2   21  Female          324         174/99          72         1   \n",
      "3   84    Male          383        163/100          73         1   \n",
      "4   66    Male          318          91/88          93         1   \n",
      "\n",
      "   Family History  Smoking  Obesity  Alcohol Consumption  ...       Diet  \\\n",
      "0               0        1        0                    0  ...    Average   \n",
      "1               1        1        1                    1  ...  Unhealthy   \n",
      "2               0        0        0                    0  ...    Healthy   \n",
      "3               1        1        0                    1  ...    Average   \n",
      "4               1        1        1                    0  ...  Unhealthy   \n",
      "\n",
      "  Previous Heart Problems  Medication Use  Stress Level  \\\n",
      "0                       0               0             9   \n",
      "1                       1               0             1   \n",
      "2                       1               1             9   \n",
      "3                       1               0             9   \n",
      "4                       1               0             6   \n",
      "\n",
      "   Sedentary Hours Per Day        BMI  Triglycerides  \\\n",
      "0                 6.615001  31.251233            286   \n",
      "1                 4.963459  27.194973            235   \n",
      "2                 9.463426  28.176571            587   \n",
      "3                 7.648981  36.464704            378   \n",
      "4                 1.514821  21.809144            231   \n",
      "\n",
      "   Physical Activity Days Per Week  Sleep Hours Per Day  Heart Attack Risk  \n",
      "0                                0                    6                  0  \n",
      "1                                1                    7                  0  \n",
      "2                                4                    4                  0  \n",
      "3                                3                    4                  0  \n",
      "4                                1                    5                  0  \n",
      "\n",
      "[5 rows x 21 columns]\n",
      "Index(['Age', 'Sex', 'Cholesterol', 'Blood Pressure', 'Heart Rate', 'Diabetes',\n",
      "       'Family History', 'Smoking', 'Obesity', 'Alcohol Consumption',\n",
      "       'Exercise Hours Per Week', 'Diet', 'Previous Heart Problems',\n",
      "       'Medication Use', 'Stress Level', 'Sedentary Hours Per Day', 'BMI',\n",
      "       'Triglycerides', 'Physical Activity Days Per Week',\n",
      "       'Sleep Hours Per Day'],\n",
      "      dtype='object')\n",
      "(8763, 19)\n",
      "   Age     Sex  Cholesterol Blood Pressure  Heart Rate  Diabetes  \\\n",
      "0   67    Male          208         158/88          72         0   \n",
      "1   21    Male          389         165/93          98         1   \n",
      "2   21  Female          324         174/99          72         1   \n",
      "3   84    Male          383        163/100          73         1   \n",
      "4   66    Male          318          91/88          93         1   \n",
      "\n",
      "   Family History  Smoking  Obesity  Alcohol Consumption  \\\n",
      "0               0        1        0                    0   \n",
      "1               1        1        1                    1   \n",
      "2               0        0        0                    0   \n",
      "3               1        1        0                    1   \n",
      "4               1        1        1                    0   \n",
      "\n",
      "   Exercise Hours Per Week       Diet  Previous Heart Problems  \\\n",
      "0                 4.168189    Average                        0   \n",
      "1                 1.813242  Unhealthy                        1   \n",
      "2                 2.078353    Healthy                        1   \n",
      "3                 9.828130    Average                        1   \n",
      "4                 5.804299  Unhealthy                        1   \n",
      "\n",
      "   Medication Use  Stress Level  Sedentary Hours Per Day        BMI  \\\n",
      "0               0             9                 6.615001  31.251233   \n",
      "1               0             1                 4.963459  27.194973   \n",
      "2               1             9                 9.463426  28.176571   \n",
      "3               0             9                 7.648981  36.464704   \n",
      "4               0             6                 1.514821  21.809144   \n",
      "\n",
      "   Triglycerides  Physical Activity Days Per Week  Sleep Hours Per Day  \n",
      "0            286                                0                    6  \n",
      "1            235                                1                    7  \n",
      "2            587                                4                    4  \n",
      "3            378                                3                    4  \n",
      "4            231                                1                    5  \n"
     ]
    }
   ],
   "source": [
    "import pandas as pd\n",
    "from sklearn.preprocessing import StandardScaler, OneHotEncoder\n",
    "from sklearn.model_selection import train_test_split, cross_val_score\n",
    "from sklearn.linear_model import LogisticRegression\n",
    "from sklearn.neighbors import KNeighborsClassifier\n",
    "from sklearn.ensemble import RandomForestClassifier\n",
    "from sklearn.metrics import accuracy_score, precision_score, recall_score, classification_report\n",
    "from sklearn.compose import ColumnTransformer\n",
    "\n",
    "# Load data\n",
    "clinical_data = pd.read_csv('datasets/clinical_dataset.csv')\n",
    "lifestyle_data = pd.read_csv('datasets/lifestyle_dataset.csv')\n",
    "\n",
    "# View basic information\n",
    "print(clinical_data.head())\n",
    "print(lifestyle_data.head())\n",
    "\n",
    "#Dropping more columns from lfestyle dataset\n",
    "columns_to_remove = ['Hemisphere', 'Patient ID', 'Income', 'Continent', 'Country']\n",
    "lifestyle_data = lifestyle_data.drop(columns=columns_to_remove)\n",
    "\n",
    "print(lifestyle_data.head())\n",
    "\n",
    "\n",
    "# Preprocessing the lifestyle dataset by dropping the output column\n",
    "Xlifestyle = lifestyle_data.drop('Heart Attack Risk', axis=1)\n",
    "Ylifestyle = lifestyle_data['Heart Attack Risk']\n",
    "\n",
    "# Checking the column names to make sure 'Sex' exists\n",
    "print(Xlifestyle.columns)\n",
    "\n",
    "# Identify categorical columns \n",
    "categorical_columns = ['Sex']\n",
    "\n",
    "# Create a column transformer for handling both categorical and numerical features\n",
    "preprocessor = ColumnTransformer(\n",
    "    transformers=[\n",
    "        ('num', StandardScaler(), Xlifestyle.select_dtypes(include=['float64', 'int64']).columns),  # Numerical columns\n",
    "        ('cat', OneHotEncoder(), categorical_columns)  # Categorical columns\n",
    "    ])\n",
    "\n",
    "# Fit the preprocessor and transform the data\n",
    "Xlifestyle_encoded = preprocessor.fit_transform(Xlifestyle)\n",
    "\n",
    "# Now you can proceed with your ML model, e.g., splitting the dataset\n",
    "X_train, X_test, y_train, y_test = train_test_split(Xlifestyle_encoded, Ylifestyle, test_size=0.2, random_state=42)\n",
    "\n",
    "# Check the shape of the scaled and transformed dataset\n",
    "print(Xlifestyle_encoded.shape)\n",
    "\n",
    "# Preprocessing the clinical dataset by dropping the output column\n",
    "Xclinical_encoded = clinical_data.drop('output', axis=1)\n",
    "Yclinical = clinical_data['output']\n",
    "\n",
    "\n",
    "print(Xlifestyle.head())\n"
   ]
  },
  {
   "cell_type": "markdown",
   "metadata": {},
   "source": [
    "Approach 1: Principle Component Analysis \n",
    "\n",
    "When to use: PCA is suitable when you have numerical data and want to capture the most variance in fewer dimensions.\n",
    "How it works: PCA transforms the data into new dimensions (principal components) that are linear combinations of the original features. The first few components capture the most variance in the data.\n",
    "Benefit: This method is often useful when working with models like Logistic Regression or KNN, as it reduces the feature space and noise."
   ]
  },
  {
   "cell_type": "code",
   "execution_count": 3,
   "metadata": {},
   "outputs": [],
   "source": [
    "\n",
    "from sklearn.decomposition import PCA\n",
    "\n",
    "\n",
    "scaler = StandardScaler()\n",
    "\n",
    "# Scale lifestyle dataset\n",
    "Xlife_scaled = scaler.fit_transform(Xlifestyle_encoded)\n",
    "\n",
    "# Scale clinical dataset\n",
    "Xclinical_scaled = scaler.fit_transform(Xclinical_encoded)\n",
    "\n",
    "# Apply PCA to reduce dimensions to 10 components for lifestyle dataset\n",
    "pca_life = PCA(n_components=10)\n",
    "Xlife_pca = pca_life.fit_transform(Xlife_scaled)\n",
    "\n",
    "# Apply PCA to reduce dimensions to 10 components for clinical dataset\n",
    "pca_clinical = PCA(n_components=10)\n",
    "Xclinical_pca = pca_clinical.fit_transform(Xclinical_scaled)\n"
   ]
  },
  {
   "cell_type": "markdown",
   "metadata": {},
   "source": [
    "Check Balance between classes "
   ]
  },
  {
   "cell_type": "code",
   "execution_count": 4,
   "metadata": {},
   "outputs": [
    {
     "name": "stdout",
     "output_type": "stream",
     "text": [
      "Lifestyle Dataset Class Distribution:\n",
      "Heart Attack Risk\n",
      "0    5624\n",
      "1    3139\n",
      "Name: count, dtype: int64\n",
      "\n",
      "Clinical Dataset Class Distribution:\n",
      "output\n",
      "1    165\n",
      "0    138\n",
      "Name: count, dtype: int64\n"
     ]
    }
   ],
   "source": [
    "# Display class distribution for the lifestyle dataset\n",
    "lifestyle_class_distribution = Ylifestyle.value_counts()\n",
    "print(\"Lifestyle Dataset Class Distribution:\")\n",
    "print(lifestyle_class_distribution)\n",
    "\n",
    "# Display class distribution for the clinical dataset\n",
    "clinical_class_distribution = Yclinical.value_counts()\n",
    "print(\"\\nClinical Dataset Class Distribution:\")\n",
    "print(clinical_class_distribution)\n"
   ]
  },
  {
   "cell_type": "markdown",
   "metadata": {},
   "source": [
    "There appears to be a significant imbalance between class 0 (5624) and class 1 (3139) for the lifestyle dataset \n",
    "\n",
    "Meanwhile for the clinical dataset there is a very minor imbalance \n",
    "\n",
    "I will represent these imbalances below"
   ]
  },
  {
   "cell_type": "code",
   "execution_count": 5,
   "metadata": {},
   "outputs": [
    {
     "data": {
      "image/png": "[encoded data removed]",
      "text/plain": [
       "<Figure size 800x400 with 1 Axes>"
      ]
     },
     "metadata": {},
     "output_type": "display_data"
    },
    {
     "data": {
      "image/png": "[encoded data removed]",
      "text/plain": [
       "<Figure size 800x400 with 1 Axes>"
      ]
     },
     "metadata": {},
     "output_type": "display_data"
    }
   ],
   "source": [
    "import matplotlib.pyplot as plt\n",
    "\n",
    "# Visualize class distribution for the lifestyle dataset\n",
    "plt.figure(figsize=(8, 4))\n",
    "Ylifestyle.value_counts().plot(kind='bar')\n",
    "plt.title('Lifestyle Dataset Class Distribution')\n",
    "plt.xlabel('Classes')\n",
    "plt.ylabel('Count')\n",
    "plt.show()\n",
    "\n",
    "# Visualize class distribution for the clinical dataset\n",
    "plt.figure(figsize=(8, 4))\n",
    "Yclinical.value_counts().plot(kind='bar')\n",
    "plt.title('Clinical Dataset Class Distribution')\n",
    "plt.xlabel('Classes')\n",
    "plt.ylabel('Count')\n",
    "plt.show()\n"
   ]
  },
  {
   "cell_type": "code",
   "execution_count": 6,
   "metadata": {},
   "outputs": [
    {
     "name": "stdout",
     "output_type": "stream",
     "text": [
      "MLP Accuracy (Lifestyle): 0.5348041080258653\n",
      "              precision    recall  f1-score   support\n",
      "\n",
      "           0       0.65      0.60      0.62      1691\n",
      "           1       0.37      0.41      0.39       938\n",
      "\n",
      "    accuracy                           0.53      2629\n",
      "   macro avg       0.51      0.51      0.51      2629\n",
      "weighted avg       0.55      0.53      0.54      2629\n",
      "\n",
      "MLP Accuracy (Clinical): 0.7802197802197802\n",
      "              precision    recall  f1-score   support\n",
      "\n",
      "           0       0.76      0.76      0.76        41\n",
      "           1       0.80      0.80      0.80        50\n",
      "\n",
      "    accuracy                           0.78        91\n",
      "   macro avg       0.78      0.78      0.78        91\n",
      "weighted avg       0.78      0.78      0.78        91\n",
      "\n"
     ]
    },
    {
     "name": "stderr",
     "output_type": "stream",
     "text": [
      "c:\\Users\\Elvis\\anaconda3\\Lib\\site-packages\\sklearn\\neural_network\\_multilayer_perceptron.py:691: ConvergenceWarning: Stochastic Optimizer: Maximum iterations (500) reached and the optimization hasn't converged yet.\n",
      "  warnings.warn(\n"
     ]
    }
   ],
   "source": [
    "from sklearn.neural_network import MLPClassifier\n",
    "from imblearn.over_sampling import SMOTE\n",
    "from sklearn.model_selection import train_test_split\n",
    "from sklearn.metrics import accuracy_score, classification_report\n",
    "\n",
    "# Split the lifestyle dataset into training and test sets\n",
    "Xlife_train, Xlife_test, Ylife_train, Ylife_test = train_test_split(Xlife_pca, Ylifestyle, test_size=0.3, random_state=42)\n",
    "\n",
    "# Apply SMOTE to the training set of the lifestyle dataset\n",
    "smote = SMOTE(random_state=42)\n",
    "Xlife_train_resampled, Ylife_train_resampled = smote.fit_resample(Xlife_train, Ylife_train)\n",
    "\n",
    "# Define and train the MLP classifier for the lifestyle dataset\n",
    "mlp_life = MLPClassifier(hidden_layer_sizes=(100,), max_iter=500, random_state=42)\n",
    "mlp_life.fit(Xlife_train_resampled, Ylife_train_resampled)\n",
    "\n",
    "# Predictions and evaluation for MLP on the lifestyle test set\n",
    "Ylife_pred_mlp = mlp_life.predict(Xlife_test)\n",
    "print(f'MLP Accuracy (Lifestyle): {accuracy_score(Ylife_test, Ylife_pred_mlp)}')\n",
    "print(classification_report(Ylife_test, Ylife_pred_mlp))\n",
    "\n",
    "# Split the clinical dataset into training and test sets\n",
    "Xclinical_train, Xclinical_test, Yclinical_train, Yclinical_test = train_test_split(Xclinical_pca, Yclinical, test_size=0.3, random_state=42)\n",
    "\n",
    "# Apply SMOTE to the training set of the clinical dataset\n",
    "Xclinical_train_resampled, Yclinical_train_resampled = smote.fit_resample(Xclinical_train, Yclinical_train)\n",
    "\n",
    "# Define and train the MLP classifier for the clinical dataset\n",
    "mlp_clinical = MLPClassifier(hidden_layer_sizes=(100,), max_iter=500, random_state=42)\n",
    "mlp_clinical.fit(Xclinical_train_resampled, Yclinical_train_resampled)\n",
    "\n",
    "# Predictions and evaluation for MLP on the clinical test set\n",
    "Yclinical_pred_mlp = mlp_clinical.predict(Xclinical_test)\n",
    "print(f'MLP Accuracy (Clinical): {accuracy_score(Yclinical_test, Yclinical_pred_mlp)}')\n",
    "print(classification_report(Yclinical_test, Yclinical_pred_mlp))\n"
   ]
  },
  {
   "cell_type": "code",
   "execution_count": 7,
   "metadata": {},
   "outputs": [
    {
     "name": "stdout",
     "output_type": "stream",
     "text": [
      "SVC Accuracy (Lifestyle): 0.4903004944845949\n",
      "              precision    recall  f1-score   support\n",
      "\n",
      "           0       0.64      0.47      0.54      1691\n",
      "           1       0.36      0.53      0.43       938\n",
      "\n",
      "    accuracy                           0.49      2629\n",
      "   macro avg       0.50      0.50      0.48      2629\n",
      "weighted avg       0.54      0.49      0.50      2629\n",
      "\n",
      "SVC Accuracy (Clinical): 0.8461538461538461\n",
      "              precision    recall  f1-score   support\n",
      "\n",
      "           0       0.83      0.83      0.83        41\n",
      "           1       0.86      0.86      0.86        50\n",
      "\n",
      "    accuracy                           0.85        91\n",
      "   macro avg       0.84      0.84      0.84        91\n",
      "weighted avg       0.85      0.85      0.85        91\n",
      "\n"
     ]
    }
   ],
   "source": [
    "from sklearn.svm import SVC\n",
    "from imblearn.over_sampling import SMOTE\n",
    "from sklearn.metrics import accuracy_score, classification_report\n",
    "from sklearn.model_selection import train_test_split\n",
    "\n",
    "# Split the lifestyle dataset into training and test sets\n",
    "Xlife_train, Xlife_test, Ylife_train, Ylife_test = train_test_split(Xlife_pca, Ylifestyle, test_size=0.3, random_state=42)\n",
    "\n",
    "# Apply SMOTE to the training set of the lifestyle dataset\n",
    "smote = SMOTE(random_state=42)\n",
    "Xlife_train_resampled, Ylife_train_resampled = smote.fit_resample(Xlife_train, Ylife_train)\n",
    "\n",
    "# Define and train the SVC classifier for the lifestyle dataset\n",
    "svc_life = SVC(kernel='linear', random_state=42)\n",
    "svc_life.fit(Xlife_train_resampled, Ylife_train_resampled)\n",
    "\n",
    "# Predictions and evaluation for SVC on the lifestyle test set\n",
    "Ylife_pred_svc = svc_life.predict(Xlife_test)\n",
    "print(f'SVC Accuracy (Lifestyle): {accuracy_score(Ylife_test, Ylife_pred_svc)}')\n",
    "print(classification_report(Ylife_test, Ylife_pred_svc, zero_division=1))\n",
    "\n",
    "# Split the clinical dataset into training and test sets\n",
    "Xclinical_train, Xclinical_test, Yclinical_train, Yclinical_test = train_test_split(Xclinical_pca, Yclinical, test_size=0.3, random_state=42)\n",
    "\n",
    "# Apply SMOTE to the training set of the clinical dataset\n",
    "Xclinical_train_resampled, Yclinical_train_resampled = smote.fit_resample(Xclinical_train, Yclinical_train)\n",
    "\n",
    "# Define and train the SVC classifier for the clinical dataset\n",
    "svc_clinical = SVC(kernel='linear', random_state=42)\n",
    "svc_clinical.fit(Xclinical_train_resampled, Yclinical_train_resampled)\n",
    "\n",
    "# Predictions and evaluation for SVC on the clinical test set\n",
    "Yclinical_pred_svc = svc_clinical.predict(Xclinical_test)\n",
    "print(f'SVC Accuracy (Clinical): {accuracy_score(Yclinical_test, Yclinical_pred_svc)}')\n",
    "print(classification_report(Yclinical_test, Yclinical_pred_svc, zero_division=1))\n"
   ]
  },
  {
   "cell_type": "markdown",
   "metadata": {},
   "source": [
    "Check the ROC curve and confusion matrix"
   ]
  },
  {
   "cell_type": "code",
   "execution_count": 8,
   "metadata": {},
   "outputs": [
    {
     "data": {
      "image/png": "[encoded data removed]",
      "text/plain": [
       "<Figure size 640x480 with 2 Axes>"
      ]
     },
     "metadata": {},
     "output_type": "display_data"
    },
    {
     "data": {
      "image/png": "[encoded data removed]",
      "text/plain": [
       "<Figure size 640x480 with 2 Axes>"
      ]
     },
     "metadata": {},
     "output_type": "display_data"
    }
   ],
   "source": [
    "from sklearn.metrics import confusion_matrix, ConfusionMatrixDisplay\n",
    "import matplotlib.pyplot as plt\n",
    "\n",
    "# Confusion matrix for the MLP model on the lifestyle dataset\n",
    "cm_mlp_life = confusion_matrix(Ylife_test, Ylife_pred_mlp)\n",
    "disp_mlp_life = ConfusionMatrixDisplay(confusion_matrix=cm_mlp_life)\n",
    "disp_mlp_life.plot()\n",
    "plt.title(\"Confusion Matrix - MLP (Lifestyle Dataset)\")\n",
    "plt.show()\n",
    "\n",
    "# Confusion matrix for the SVC model on the lifestyle dataset\n",
    "cm_svc_life = confusion_matrix(Ylife_test, Ylife_pred_svc)\n",
    "disp_svc_life = ConfusionMatrixDisplay(confusion_matrix=cm_svc_life)\n",
    "disp_svc_life.plot()\n",
    "plt.title(\"Confusion Matrix - SVC (Lifestyle Dataset)\")\n",
    "plt.show()\n"
   ]
  },
  {
   "cell_type": "code",
   "execution_count": 9,
   "metadata": {},
   "outputs": [
    {
     "data": {
      "image/png": "[encoded data removed]",
      "text/plain": [
       "<Figure size 640x480 with 1 Axes>"
      ]
     },
     "metadata": {},
     "output_type": "display_data"
    },
    {
     "data": {
      "image/png": "[encoded data removed]",
      "text/plain": [
       "<Figure size 640x480 with 1 Axes>"
      ]
     },
     "metadata": {},
     "output_type": "display_data"
    }
   ],
   "source": [
    "from sklearn.metrics import roc_curve, roc_auc_score\n",
    "import matplotlib.pyplot as plt\n",
    "\n",
    "# For the MLP model on the lifestyle dataset (use probabilities)\n",
    "Ylife_mlp_probs = mlp_life.predict_proba(Xlife_test)[:, 1]  # Using the original test set\n",
    "fpr_mlp, tpr_mlp, _ = roc_curve(Ylife_test, Ylife_mlp_probs)  # Using the original test set labels\n",
    "roc_auc_mlp = roc_auc_score(Ylife_test, Ylife_mlp_probs)\n",
    "\n",
    "# Plot the ROC curve for the MLP model\n",
    "plt.figure()\n",
    "plt.plot(fpr_mlp, tpr_mlp, label=f'MLP (AUC = {roc_auc_mlp:.2f})')\n",
    "plt.plot([0, 1], [0, 1], 'k--')  # Diagonal line for random guessing\n",
    "plt.xlabel('False Positive Rate')\n",
    "plt.ylabel('True Positive Rate')\n",
    "plt.title('ROC Curve - MLP (Lifestyle Dataset)')\n",
    "plt.legend()\n",
    "plt.show()\n",
    "\n",
    "# For the SVC model (use decision function for scores)\n",
    "Ylife_svc_scores = svc_life.decision_function(Xlife_test)  # Using the original test set\n",
    "fpr_svc, tpr_svc, _ = roc_curve(Ylife_test, Ylife_svc_scores)  # Using the original test set labels\n",
    "roc_auc_svc = roc_auc_score(Ylife_test, Ylife_svc_scores)\n",
    "\n",
    "# Plot the ROC curve for the SVC model\n",
    "plt.figure()\n",
    "plt.plot(fpr_svc, tpr_svc, label=f'SVC (AUC = {roc_auc_svc:.2f})')\n",
    "plt.plot([0, 1], [0, 1], 'k--')\n",
    "plt.xlabel('False Positive Rate')\n",
    "plt.ylabel('True Positive Rate')\n",
    "plt.title('ROC Curve - SVC (Lifestyle Dataset)')\n",
    "plt.legend()\n",
    "plt.show()\n"
   ]
  },
  {
   "cell_type": "markdown",
   "metadata": {},
   "source": [
    "The ROC curves above are not very promising, the diagonal lines indicate that the model is no better than just random guessing"
   ]
  },
  {
   "cell_type": "markdown",
   "metadata": {},
   "source": [
    "MLP cross validation 5 Fold\n"
   ]
  },
  {
   "cell_type": "code",
   "execution_count": 10,
   "metadata": {},
   "outputs": [
    {
     "name": "stdout",
     "output_type": "stream",
     "text": [
      "MLP Cross-Validation Scores (Lifestyle): [0.59269823 0.6092413  0.60867085 0.60673516 0.61073059]\n",
      "MLP Average Score (Lifestyle): 0.6056152271253193\n"
     ]
    },
    {
     "name": "stderr",
     "output_type": "stream",
     "text": [
      "c:\\Users\\Elvis\\anaconda3\\Lib\\site-packages\\sklearn\\neural_network\\_multilayer_perceptron.py:691: ConvergenceWarning: Stochastic Optimizer: Maximum iterations (500) reached and the optimization hasn't converged yet.\n",
      "  warnings.warn(\n",
      "c:\\Users\\Elvis\\anaconda3\\Lib\\site-packages\\sklearn\\neural_network\\_multilayer_perceptron.py:691: ConvergenceWarning: Stochastic Optimizer: Maximum iterations (500) reached and the optimization hasn't converged yet.\n",
      "  warnings.warn(\n",
      "c:\\Users\\Elvis\\anaconda3\\Lib\\site-packages\\sklearn\\neural_network\\_multilayer_perceptron.py:691: ConvergenceWarning: Stochastic Optimizer: Maximum iterations (500) reached and the optimization hasn't converged yet.\n",
      "  warnings.warn(\n",
      "c:\\Users\\Elvis\\anaconda3\\Lib\\site-packages\\sklearn\\neural_network\\_multilayer_perceptron.py:691: ConvergenceWarning: Stochastic Optimizer: Maximum iterations (500) reached and the optimization hasn't converged yet.\n",
      "  warnings.warn(\n"
     ]
    },
    {
     "name": "stdout",
     "output_type": "stream",
     "text": [
      "MLP Cross-Validation Scores (Clinical): [0.90163934 0.7704918  0.86885246 0.81666667 0.68333333]\n",
      "MLP Average Score (Clinical): 0.8081967213114755\n"
     ]
    },
    {
     "name": "stderr",
     "output_type": "stream",
     "text": [
      "c:\\Users\\Elvis\\anaconda3\\Lib\\site-packages\\sklearn\\neural_network\\_multilayer_perceptron.py:691: ConvergenceWarning: Stochastic Optimizer: Maximum iterations (500) reached and the optimization hasn't converged yet.\n",
      "  warnings.warn(\n"
     ]
    }
   ],
   "source": [
    "# # Cross-validation for MLP on the lifestyle dataset\n",
    "# mlp_life_scores = cross_val_score(mlp_life, Xlife_pca, Ylifestyle, cv=5)\n",
    "# print(f'MLP Cross-Validation Scores (Lifestyle): {mlp_life_scores}')\n",
    "# print(f'MLP Average Score (Lifestyle): {mlp_life_scores.mean()}')\n",
    "\n",
    "# # Cross-validation for MLP on the clinical dataset\n",
    "# mlp_clinical_scores = cross_val_score(mlp_clinical, Xclinical_pca, Yclinical, cv=5)\n",
    "# print(f'MLP Cross-Validation Scores (Clinical): {mlp_clinical_scores}')\n",
    "# print(f'MLP Average Score (Clinical): {mlp_clinical_scores.mean()}')\n"
   ]
  },
  {
   "cell_type": "markdown",
   "metadata": {},
   "source": [
    "MLP Average Score (Lifestyle): 0.6056152271253193\n",
    "above code is commented out because it takes too long for bad results"
   ]
  },
  {
   "cell_type": "markdown",
   "metadata": {},
   "source": [
    "SVC cross validation 5 Fold"
   ]
  },
  {
   "cell_type": "code",
   "execution_count": 11,
   "metadata": {},
   "outputs": [
    {
     "name": "stdout",
     "output_type": "stream",
     "text": [
      "SVC Cross-Validation Scores (Lifestyle): [0.64175699 0.64175699 0.64175699 0.64212329 0.64155251]\n",
      "SVC Average Score (Lifestyle): 0.6417893526296734\n",
      "SVC Cross-Validation Scores (Clinical): [0.83606557 0.86885246 0.7704918  0.83333333 0.76666667]\n",
      "SVC Average Score (Clinical): 0.8150819672131149\n"
     ]
    }
   ],
   "source": [
    "# Cross-validation for SVC on the lifestyle dataset\n",
    "svc_life_scores = cross_val_score(svc_life, Xlife_pca, Ylifestyle, cv=5)\n",
    "print(f'SVC Cross-Validation Scores (Lifestyle): {svc_life_scores}')\n",
    "print(f'SVC Average Score (Lifestyle): {svc_life_scores.mean()}')\n",
    "\n",
    "# Cross-validation for SVC on the clinical dataset\n",
    "svc_clinical_scores = cross_val_score(svc_clinical, Xclinical_pca, Yclinical, cv=5)\n",
    "print(f'SVC Cross-Validation Scores (Clinical): {svc_clinical_scores}')\n",
    "print(f'SVC Average Score (Clinical): {svc_clinical_scores.mean()}')\n"
   ]
  },
  {
   "cell_type": "markdown",
   "metadata": {},
   "source": [
    "Lets try hyperparameter tuning"
   ]
  },
  {
   "cell_type": "code",
   "execution_count": 12,
   "metadata": {},
   "outputs": [],
   "source": [
    "# from sklearn.model_selection import GridSearchCV\n",
    "# from sklearn.svm import SVC\n",
    "\n",
    "# # Define hyperparameter grid for SVC\n",
    "# svc_param_grid = {\n",
    "#     'kernel': ['rbf', 'poly'],  # Trying both RBF and polynomial kernels\n",
    "#     'C': [0.1, 1, 10],  # Regularization strength\n",
    "#     'gamma': ['scale', 'auto']  # Kernel coefficient\n",
    "# }\n",
    "\n",
    "# # Apply GridSearchCV for SVC\n",
    "# svc_grid = GridSearchCV(SVC(random_state=42), svc_param_grid, cv=5, verbose=2)\n",
    "# svc_grid.fit(Xlife_train_resampled, Ylife_train_resampled)\n",
    "\n",
    "# # Print the best hyperparameters for SVC\n",
    "# print(f'Best SVC parameters: {svc_grid.best_params_}')\n",
    "\n",
    "# # Evaluate the tuned SVC model on the test set\n",
    "# Ylife_pred_svc_tuned = svc_grid.best_estimator_.predict(Xlife_test)\n",
    "# print(f'Tuned SVC Accuracy (Lifestyle): {accuracy_score(Ylife_test, Ylife_pred_svc_tuned)}')\n",
    "# print(classification_report(Ylife_test, Ylife_pred_svc_tuned))\n",
    "\n",
    "# commented out because takes too long \n"
   ]
  },
  {
   "cell_type": "code",
   "execution_count": 13,
   "metadata": {},
   "outputs": [
    {
     "name": "stdout",
     "output_type": "stream",
     "text": [
      "Fitting 5 folds for each of 12 candidates, totalling 60 fits\n",
      "[CV] END .....................C=0.1, gamma=scale, kernel=rbf; total time=   0.0s\n",
      "[CV] END .....................C=0.1, gamma=scale, kernel=rbf; total time=   0.0s\n",
      "[CV] END .....................C=0.1, gamma=scale, kernel=rbf; total time=   0.0s\n",
      "[CV] END .....................C=0.1, gamma=scale, kernel=rbf; total time=   0.0s\n",
      "[CV] END .....................C=0.1, gamma=scale, kernel=rbf; total time=   0.0s\n",
      "[CV] END ....................C=0.1, gamma=scale, kernel=poly; total time=   0.0s\n",
      "[CV] END ....................C=0.1, gamma=scale, kernel=poly; total time=   0.0s\n",
      "[CV] END ....................C=0.1, gamma=scale, kernel=poly; total time=   0.0s\n",
      "[CV] END ....................C=0.1, gamma=scale, kernel=poly; total time=   0.0s\n",
      "[CV] END ....................C=0.1, gamma=scale, kernel=poly; total time=   0.0s\n",
      "[CV] END ......................C=0.1, gamma=auto, kernel=rbf; total time=   0.0s\n",
      "[CV] END ......................C=0.1, gamma=auto, kernel=rbf; total time=   0.0s\n",
      "[CV] END ......................C=0.1, gamma=auto, kernel=rbf; total time=   0.0s\n",
      "[CV] END ......................C=0.1, gamma=auto, kernel=rbf; total time=   0.0s\n",
      "[CV] END ......................C=0.1, gamma=auto, kernel=rbf; total time=   0.0s\n",
      "[CV] END .....................C=0.1, gamma=auto, kernel=poly; total time=   0.0s\n",
      "[CV] END .....................C=0.1, gamma=auto, kernel=poly; total time=   0.0s\n",
      "[CV] END .....................C=0.1, gamma=auto, kernel=poly; total time=   0.0s\n",
      "[CV] END .....................C=0.1, gamma=auto, kernel=poly; total time=   0.0s\n",
      "[CV] END .....................C=0.1, gamma=auto, kernel=poly; total time=   0.0s\n",
      "[CV] END .......................C=1, gamma=scale, kernel=rbf; total time=   0.0s\n",
      "[CV] END .......................C=1, gamma=scale, kernel=rbf; total time=   0.0s\n",
      "[CV] END .......................C=1, gamma=scale, kernel=rbf; total time=   0.0s\n",
      "[CV] END .......................C=1, gamma=scale, kernel=rbf; total time=   0.0s\n",
      "[CV] END .......................C=1, gamma=scale, kernel=rbf; total time=   0.0s\n",
      "[CV] END ......................C=1, gamma=scale, kernel=poly; total time=   0.0s\n",
      "[CV] END ......................C=1, gamma=scale, kernel=poly; total time=   0.0s\n",
      "[CV] END ......................C=1, gamma=scale, kernel=poly; total time=   0.0s\n",
      "[CV] END ......................C=1, gamma=scale, kernel=poly; total time=   0.0s\n",
      "[CV] END ......................C=1, gamma=scale, kernel=poly; total time=   0.0s\n",
      "[CV] END ........................C=1, gamma=auto, kernel=rbf; total time=   0.0s\n",
      "[CV] END ........................C=1, gamma=auto, kernel=rbf; total time=   0.0s\n",
      "[CV] END ........................C=1, gamma=auto, kernel=rbf; total time=   0.0s\n",
      "[CV] END ........................C=1, gamma=auto, kernel=rbf; total time=   0.0s\n",
      "[CV] END ........................C=1, gamma=auto, kernel=rbf; total time=   0.0s\n",
      "[CV] END .......................C=1, gamma=auto, kernel=poly; total time=   0.0s\n",
      "[CV] END .......................C=1, gamma=auto, kernel=poly; total time=   0.0s\n",
      "[CV] END .......................C=1, gamma=auto, kernel=poly; total time=   0.0s\n",
      "[CV] END .......................C=1, gamma=auto, kernel=poly; total time=   0.0s\n",
      "[CV] END .......................C=1, gamma=auto, kernel=poly; total time=   0.0s\n",
      "[CV] END ......................C=10, gamma=scale, kernel=rbf; total time=   0.0s\n",
      "[CV] END ......................C=10, gamma=scale, kernel=rbf; total time=   0.0s\n",
      "[CV] END ......................C=10, gamma=scale, kernel=rbf; total time=   0.0s\n",
      "[CV] END ......................C=10, gamma=scale, kernel=rbf; total time=   0.0s\n",
      "[CV] END ......................C=10, gamma=scale, kernel=rbf; total time=   0.0s\n",
      "[CV] END .....................C=10, gamma=scale, kernel=poly; total time=   0.0s\n",
      "[CV] END .....................C=10, gamma=scale, kernel=poly; total time=   0.0s\n",
      "[CV] END .....................C=10, gamma=scale, kernel=poly; total time=   0.0s\n",
      "[CV] END .....................C=10, gamma=scale, kernel=poly; total time=   0.0s\n",
      "[CV] END .....................C=10, gamma=scale, kernel=poly; total time=   0.0s\n",
      "[CV] END .......................C=10, gamma=auto, kernel=rbf; total time=   0.0s\n",
      "[CV] END .......................C=10, gamma=auto, kernel=rbf; total time=   0.0s\n",
      "[CV] END .......................C=10, gamma=auto, kernel=rbf; total time=   0.0s\n",
      "[CV] END .......................C=10, gamma=auto, kernel=rbf; total time=   0.0s\n",
      "[CV] END .......................C=10, gamma=auto, kernel=rbf; total time=   0.0s\n",
      "[CV] END ......................C=10, gamma=auto, kernel=poly; total time=   0.0s\n",
      "[CV] END ......................C=10, gamma=auto, kernel=poly; total time=   0.0s\n",
      "[CV] END ......................C=10, gamma=auto, kernel=poly; total time=   0.0s\n",
      "[CV] END ......................C=10, gamma=auto, kernel=poly; total time=   0.0s\n",
      "[CV] END ......................C=10, gamma=auto, kernel=poly; total time=   0.0s\n",
      "Best SVC parameters (Clinical): {'C': 1, 'gamma': 'scale', 'kernel': 'poly'}\n",
      "Tuned SVC Accuracy (Clinical): 0.8241758241758241\n",
      "              precision    recall  f1-score   support\n",
      "\n",
      "           0       0.80      0.80      0.80        41\n",
      "           1       0.84      0.84      0.84        50\n",
      "\n",
      "    accuracy                           0.82        91\n",
      "   macro avg       0.82      0.82      0.82        91\n",
      "weighted avg       0.82      0.82      0.82        91\n",
      "\n"
     ]
    }
   ],
   "source": [
    "from sklearn.model_selection import GridSearchCV\n",
    "from sklearn.svm import SVC\n",
    "\n",
    "# Define hyperparameter grid for SVC (clinical dataset)\n",
    "svc_param_grid = {\n",
    "    'kernel': ['rbf', 'poly'],  # Trying both RBF and polynomial kernels\n",
    "    'C': [0.1, 1, 10],  # Regularization strength\n",
    "    'gamma': ['scale', 'auto']  # Kernel coefficient\n",
    "}\n",
    "\n",
    "# Apply GridSearchCV for SVC (clinical dataset)\n",
    "svc_grid_clinical = GridSearchCV(SVC(random_state=42), svc_param_grid, cv=5, verbose=2)\n",
    "svc_grid_clinical.fit(Xclinical_train_resampled, Yclinical_train_resampled)\n",
    "\n",
    "# Print the best hyperparameters for SVC (clinical dataset)\n",
    "print(f'Best SVC parameters (Clinical): {svc_grid_clinical.best_params_}')\n",
    "\n",
    "# Evaluate the tuned SVC model on the clinical test set\n",
    "Y_pred_svc_clinical_tuned = svc_grid_clinical.best_estimator_.predict(Xclinical_test)\n",
    "print(f'Tuned SVC Accuracy (Clinical): {accuracy_score(Yclinical_test, Y_pred_svc_clinical_tuned)}')\n",
    "print(classification_report(Yclinical_test, Y_pred_svc_clinical_tuned))\n"
   ]
  },
  {
   "cell_type": "markdown",
   "metadata": {},
   "source": [
    "Hyper parameter tuning for MLP"
   ]
  },
  {
   "cell_type": "code",
   "execution_count": 14,
   "metadata": {},
   "outputs": [],
   "source": [
    "# from sklearn.neural_network import MLPClassifier\n",
    "# from sklearn.model_selection import GridSearchCV\n",
    "\n",
    "# # Define hyperparameter grid for MLP\n",
    "# mlp_param_grid = {\n",
    "#     'hidden_layer_sizes': [(50,), (100,), (100, 50)],  # Different architectures\n",
    "#     'activation': ['tanh', 'relu'],  # Activation functions\n",
    "#     'solver': ['adam', 'sgd'],  # Different solvers for weight optimization\n",
    "#     'learning_rate': ['constant', 'adaptive'],  # Learning rate strategy\n",
    "# }\n",
    "\n",
    "# # Apply GridSearchCV for MLP\n",
    "# mlp_grid = GridSearchCV(MLPClassifier(max_iter=500, random_state=42), mlp_param_grid, cv=5, verbose=2)\n",
    "# mlp_grid.fit(Xlife_train_resampled, Ylife_train_resampled)\n",
    "\n",
    "# # Print the best hyperparameters for MLP\n",
    "# print(f'Best MLP parameters: {mlp_grid.best_params_}')\n",
    "\n",
    "# # Evaluate the tuned MLP model on the test set\n",
    "# Ylife_pred_mlp_tuned = mlp_grid.best_estimator_.predict(Xlife_test)\n",
    "# print(f'Tuned MLP Accuracy (Lifestyle): {accuracy_score(Ylife_test, Ylife_pred_mlp_tuned)}')\n",
    "# print(classification_report(Ylife_test, Ylife_pred_mlp_tuned))\n"
   ]
  },
  {
   "cell_type": "code",
   "execution_count": 15,
   "metadata": {},
   "outputs": [
    {
     "name": "stdout",
     "output_type": "stream",
     "text": [
      "Fitting 5 folds for each of 24 candidates, totalling 120 fits\n"
     ]
    },
    {
     "name": "stderr",
     "output_type": "stream",
     "text": [
      "c:\\Users\\Elvis\\anaconda3\\Lib\\site-packages\\sklearn\\neural_network\\_multilayer_perceptron.py:691: ConvergenceWarning: Stochastic Optimizer: Maximum iterations (500) reached and the optimization hasn't converged yet.\n",
      "  warnings.warn(\n"
     ]
    },
    {
     "name": "stdout",
     "output_type": "stream",
     "text": [
      "[CV] END activation=tanh, hidden_layer_sizes=(50,), learning_rate=constant, solver=adam; total time=   0.1s\n"
     ]
    },
    {
     "name": "stderr",
     "output_type": "stream",
     "text": [
      "c:\\Users\\Elvis\\anaconda3\\Lib\\site-packages\\sklearn\\neural_network\\_multilayer_perceptron.py:691: ConvergenceWarning: Stochastic Optimizer: Maximum iterations (500) reached and the optimization hasn't converged yet.\n",
      "  warnings.warn(\n",
      "c:\\Users\\Elvis\\anaconda3\\Lib\\site-packages\\sklearn\\neural_network\\_multilayer_perceptron.py:691: ConvergenceWarning: Stochastic Optimizer: Maximum iterations (500) reached and the optimization hasn't converged yet.\n",
      "  warnings.warn(\n"
     ]
    },
    {
     "name": "stdout",
     "output_type": "stream",
     "text": [
      "[CV] END activation=tanh, hidden_layer_sizes=(50,), learning_rate=constant, solver=adam; total time=   0.1s\n",
      "[CV] END activation=tanh, hidden_layer_sizes=(50,), learning_rate=constant, solver=adam; total time=   0.1s\n"
     ]
    },
    {
     "name": "stderr",
     "output_type": "stream",
     "text": [
      "c:\\Users\\Elvis\\anaconda3\\Lib\\site-packages\\sklearn\\neural_network\\_multilayer_perceptron.py:691: ConvergenceWarning: Stochastic Optimizer: Maximum iterations (500) reached and the optimization hasn't converged yet.\n",
      "  warnings.warn(\n",
      "c:\\Users\\Elvis\\anaconda3\\Lib\\site-packages\\sklearn\\neural_network\\_multilayer_perceptron.py:691: ConvergenceWarning: Stochastic Optimizer: Maximum iterations (500) reached and the optimization hasn't converged yet.\n",
      "  warnings.warn(\n"
     ]
    },
    {
     "name": "stdout",
     "output_type": "stream",
     "text": [
      "[CV] END activation=tanh, hidden_layer_sizes=(50,), learning_rate=constant, solver=adam; total time=   0.1s\n",
      "[CV] END activation=tanh, hidden_layer_sizes=(50,), learning_rate=constant, solver=adam; total time=   0.1s\n"
     ]
    },
    {
     "name": "stderr",
     "output_type": "stream",
     "text": [
      "c:\\Users\\Elvis\\anaconda3\\Lib\\site-packages\\sklearn\\neural_network\\_multilayer_perceptron.py:691: ConvergenceWarning: Stochastic Optimizer: Maximum iterations (500) reached and the optimization hasn't converged yet.\n",
      "  warnings.warn(\n"
     ]
    },
    {
     "name": "stdout",
     "output_type": "stream",
     "text": [
      "[CV] END activation=tanh, hidden_layer_sizes=(50,), learning_rate=constant, solver=sgd; total time=   0.1s\n",
      "[CV] END activation=tanh, hidden_layer_sizes=(50,), learning_rate=constant, solver=sgd; total time=   0.1s\n",
      "[CV] END activation=tanh, hidden_layer_sizes=(50,), learning_rate=constant, solver=sgd; total time=   0.1s\n",
      "[CV] END activation=tanh, hidden_layer_sizes=(50,), learning_rate=constant, solver=sgd; total time=   0.1s\n",
      "[CV] END activation=tanh, hidden_layer_sizes=(50,), learning_rate=constant, solver=sgd; total time=   0.1s\n"
     ]
    },
    {
     "name": "stderr",
     "output_type": "stream",
     "text": [
      "c:\\Users\\Elvis\\anaconda3\\Lib\\site-packages\\sklearn\\neural_network\\_multilayer_perceptron.py:691: ConvergenceWarning: Stochastic Optimizer: Maximum iterations (500) reached and the optimization hasn't converged yet.\n",
      "  warnings.warn(\n",
      "c:\\Users\\Elvis\\anaconda3\\Lib\\site-packages\\sklearn\\neural_network\\_multilayer_perceptron.py:691: ConvergenceWarning: Stochastic Optimizer: Maximum iterations (500) reached and the optimization hasn't converged yet.\n",
      "  warnings.warn(\n"
     ]
    },
    {
     "name": "stdout",
     "output_type": "stream",
     "text": [
      "[CV] END activation=tanh, hidden_layer_sizes=(50,), learning_rate=adaptive, solver=adam; total time=   0.1s\n",
      "[CV] END activation=tanh, hidden_layer_sizes=(50,), learning_rate=adaptive, solver=adam; total time=   0.1s\n"
     ]
    },
    {
     "name": "stderr",
     "output_type": "stream",
     "text": [
      "c:\\Users\\Elvis\\anaconda3\\Lib\\site-packages\\sklearn\\neural_network\\_multilayer_perceptron.py:691: ConvergenceWarning: Stochastic Optimizer: Maximum iterations (500) reached and the optimization hasn't converged yet.\n",
      "  warnings.warn(\n",
      "c:\\Users\\Elvis\\anaconda3\\Lib\\site-packages\\sklearn\\neural_network\\_multilayer_perceptron.py:691: ConvergenceWarning: Stochastic Optimizer: Maximum iterations (500) reached and the optimization hasn't converged yet.\n",
      "  warnings.warn(\n"
     ]
    },
    {
     "name": "stdout",
     "output_type": "stream",
     "text": [
      "[CV] END activation=tanh, hidden_layer_sizes=(50,), learning_rate=adaptive, solver=adam; total time=   0.1s\n",
      "[CV] END activation=tanh, hidden_layer_sizes=(50,), learning_rate=adaptive, solver=adam; total time=   0.1s\n"
     ]
    },
    {
     "name": "stderr",
     "output_type": "stream",
     "text": [
      "c:\\Users\\Elvis\\anaconda3\\Lib\\site-packages\\sklearn\\neural_network\\_multilayer_perceptron.py:691: ConvergenceWarning: Stochastic Optimizer: Maximum iterations (500) reached and the optimization hasn't converged yet.\n",
      "  warnings.warn(\n",
      "c:\\Users\\Elvis\\anaconda3\\Lib\\site-packages\\sklearn\\neural_network\\_multilayer_perceptron.py:691: ConvergenceWarning: Stochastic Optimizer: Maximum iterations (500) reached and the optimization hasn't converged yet.\n",
      "  warnings.warn(\n"
     ]
    },
    {
     "name": "stdout",
     "output_type": "stream",
     "text": [
      "[CV] END activation=tanh, hidden_layer_sizes=(50,), learning_rate=adaptive, solver=adam; total time=   0.1s\n",
      "[CV] END activation=tanh, hidden_layer_sizes=(50,), learning_rate=adaptive, solver=sgd; total time=   0.1s\n"
     ]
    },
    {
     "name": "stderr",
     "output_type": "stream",
     "text": [
      "c:\\Users\\Elvis\\anaconda3\\Lib\\site-packages\\sklearn\\neural_network\\_multilayer_perceptron.py:691: ConvergenceWarning: Stochastic Optimizer: Maximum iterations (500) reached and the optimization hasn't converged yet.\n",
      "  warnings.warn(\n",
      "c:\\Users\\Elvis\\anaconda3\\Lib\\site-packages\\sklearn\\neural_network\\_multilayer_perceptron.py:691: ConvergenceWarning: Stochastic Optimizer: Maximum iterations (500) reached and the optimization hasn't converged yet.\n",
      "  warnings.warn(\n"
     ]
    },
    {
     "name": "stdout",
     "output_type": "stream",
     "text": [
      "[CV] END activation=tanh, hidden_layer_sizes=(50,), learning_rate=adaptive, solver=sgd; total time=   0.1s\n",
      "[CV] END activation=tanh, hidden_layer_sizes=(50,), learning_rate=adaptive, solver=sgd; total time=   0.1s\n"
     ]
    },
    {
     "name": "stderr",
     "output_type": "stream",
     "text": [
      "c:\\Users\\Elvis\\anaconda3\\Lib\\site-packages\\sklearn\\neural_network\\_multilayer_perceptron.py:691: ConvergenceWarning: Stochastic Optimizer: Maximum iterations (500) reached and the optimization hasn't converged yet.\n",
      "  warnings.warn(\n",
      "c:\\Users\\Elvis\\anaconda3\\Lib\\site-packages\\sklearn\\neural_network\\_multilayer_perceptron.py:691: ConvergenceWarning: Stochastic Optimizer: Maximum iterations (500) reached and the optimization hasn't converged yet.\n",
      "  warnings.warn(\n"
     ]
    },
    {
     "name": "stdout",
     "output_type": "stream",
     "text": [
      "[CV] END activation=tanh, hidden_layer_sizes=(50,), learning_rate=adaptive, solver=sgd; total time=   0.1s\n",
      "[CV] END activation=tanh, hidden_layer_sizes=(50,), learning_rate=adaptive, solver=sgd; total time=   0.1s\n"
     ]
    },
    {
     "name": "stderr",
     "output_type": "stream",
     "text": [
      "c:\\Users\\Elvis\\anaconda3\\Lib\\site-packages\\sklearn\\neural_network\\_multilayer_perceptron.py:691: ConvergenceWarning: Stochastic Optimizer: Maximum iterations (500) reached and the optimization hasn't converged yet.\n",
      "  warnings.warn(\n"
     ]
    },
    {
     "name": "stdout",
     "output_type": "stream",
     "text": [
      "[CV] END activation=tanh, hidden_layer_sizes=(100,), learning_rate=constant, solver=adam; total time=   0.2s\n"
     ]
    },
    {
     "name": "stderr",
     "output_type": "stream",
     "text": [
      "c:\\Users\\Elvis\\anaconda3\\Lib\\site-packages\\sklearn\\neural_network\\_multilayer_perceptron.py:691: ConvergenceWarning: Stochastic Optimizer: Maximum iterations (500) reached and the optimization hasn't converged yet.\n",
      "  warnings.warn(\n"
     ]
    },
    {
     "name": "stdout",
     "output_type": "stream",
     "text": [
      "[CV] END activation=tanh, hidden_layer_sizes=(100,), learning_rate=constant, solver=adam; total time=   0.2s\n"
     ]
    },
    {
     "name": "stderr",
     "output_type": "stream",
     "text": [
      "c:\\Users\\Elvis\\anaconda3\\Lib\\site-packages\\sklearn\\neural_network\\_multilayer_perceptron.py:691: ConvergenceWarning: Stochastic Optimizer: Maximum iterations (500) reached and the optimization hasn't converged yet.\n",
      "  warnings.warn(\n"
     ]
    },
    {
     "name": "stdout",
     "output_type": "stream",
     "text": [
      "[CV] END activation=tanh, hidden_layer_sizes=(100,), learning_rate=constant, solver=adam; total time=   0.2s\n"
     ]
    },
    {
     "name": "stderr",
     "output_type": "stream",
     "text": [
      "c:\\Users\\Elvis\\anaconda3\\Lib\\site-packages\\sklearn\\neural_network\\_multilayer_perceptron.py:691: ConvergenceWarning: Stochastic Optimizer: Maximum iterations (500) reached and the optimization hasn't converged yet.\n",
      "  warnings.warn(\n"
     ]
    },
    {
     "name": "stdout",
     "output_type": "stream",
     "text": [
      "[CV] END activation=tanh, hidden_layer_sizes=(100,), learning_rate=constant, solver=adam; total time=   0.2s\n"
     ]
    },
    {
     "name": "stderr",
     "output_type": "stream",
     "text": [
      "c:\\Users\\Elvis\\anaconda3\\Lib\\site-packages\\sklearn\\neural_network\\_multilayer_perceptron.py:691: ConvergenceWarning: Stochastic Optimizer: Maximum iterations (500) reached and the optimization hasn't converged yet.\n",
      "  warnings.warn(\n"
     ]
    },
    {
     "name": "stdout",
     "output_type": "stream",
     "text": [
      "[CV] END activation=tanh, hidden_layer_sizes=(100,), learning_rate=constant, solver=adam; total time=   0.2s\n",
      "[CV] END activation=tanh, hidden_layer_sizes=(100,), learning_rate=constant, solver=sgd; total time=   0.1s\n",
      "[CV] END activation=tanh, hidden_layer_sizes=(100,), learning_rate=constant, solver=sgd; total time=   0.1s\n",
      "[CV] END activation=tanh, hidden_layer_sizes=(100,), learning_rate=constant, solver=sgd; total time=   0.1s\n",
      "[CV] END activation=tanh, hidden_layer_sizes=(100,), learning_rate=constant, solver=sgd; total time=   0.1s\n",
      "[CV] END activation=tanh, hidden_layer_sizes=(100,), learning_rate=constant, solver=sgd; total time=   0.1s\n"
     ]
    },
    {
     "name": "stderr",
     "output_type": "stream",
     "text": [
      "c:\\Users\\Elvis\\anaconda3\\Lib\\site-packages\\sklearn\\neural_network\\_multilayer_perceptron.py:691: ConvergenceWarning: Stochastic Optimizer: Maximum iterations (500) reached and the optimization hasn't converged yet.\n",
      "  warnings.warn(\n"
     ]
    },
    {
     "name": "stdout",
     "output_type": "stream",
     "text": [
      "[CV] END activation=tanh, hidden_layer_sizes=(100,), learning_rate=adaptive, solver=adam; total time=   0.2s\n"
     ]
    },
    {
     "name": "stderr",
     "output_type": "stream",
     "text": [
      "c:\\Users\\Elvis\\anaconda3\\Lib\\site-packages\\sklearn\\neural_network\\_multilayer_perceptron.py:691: ConvergenceWarning: Stochastic Optimizer: Maximum iterations (500) reached and the optimization hasn't converged yet.\n",
      "  warnings.warn(\n"
     ]
    },
    {
     "name": "stdout",
     "output_type": "stream",
     "text": [
      "[CV] END activation=tanh, hidden_layer_sizes=(100,), learning_rate=adaptive, solver=adam; total time=   0.2s\n"
     ]
    },
    {
     "name": "stderr",
     "output_type": "stream",
     "text": [
      "c:\\Users\\Elvis\\anaconda3\\Lib\\site-packages\\sklearn\\neural_network\\_multilayer_perceptron.py:691: ConvergenceWarning: Stochastic Optimizer: Maximum iterations (500) reached and the optimization hasn't converged yet.\n",
      "  warnings.warn(\n"
     ]
    },
    {
     "name": "stdout",
     "output_type": "stream",
     "text": [
      "[CV] END activation=tanh, hidden_layer_sizes=(100,), learning_rate=adaptive, solver=adam; total time=   0.2s\n"
     ]
    },
    {
     "name": "stderr",
     "output_type": "stream",
     "text": [
      "c:\\Users\\Elvis\\anaconda3\\Lib\\site-packages\\sklearn\\neural_network\\_multilayer_perceptron.py:691: ConvergenceWarning: Stochastic Optimizer: Maximum iterations (500) reached and the optimization hasn't converged yet.\n",
      "  warnings.warn(\n"
     ]
    },
    {
     "name": "stdout",
     "output_type": "stream",
     "text": [
      "[CV] END activation=tanh, hidden_layer_sizes=(100,), learning_rate=adaptive, solver=adam; total time=   0.2s\n"
     ]
    },
    {
     "name": "stderr",
     "output_type": "stream",
     "text": [
      "c:\\Users\\Elvis\\anaconda3\\Lib\\site-packages\\sklearn\\neural_network\\_multilayer_perceptron.py:691: ConvergenceWarning: Stochastic Optimizer: Maximum iterations (500) reached and the optimization hasn't converged yet.\n",
      "  warnings.warn(\n"
     ]
    },
    {
     "name": "stdout",
     "output_type": "stream",
     "text": [
      "[CV] END activation=tanh, hidden_layer_sizes=(100,), learning_rate=adaptive, solver=adam; total time=   0.2s\n",
      "[CV] END activation=tanh, hidden_layer_sizes=(100,), learning_rate=adaptive, solver=sgd; total time=   0.1s\n",
      "[CV] END activation=tanh, hidden_layer_sizes=(100,), learning_rate=adaptive, solver=sgd; total time=   0.1s\n",
      "[CV] END activation=tanh, hidden_layer_sizes=(100,), learning_rate=adaptive, solver=sgd; total time=   0.1s\n",
      "[CV] END activation=tanh, hidden_layer_sizes=(100,), learning_rate=adaptive, solver=sgd; total time=   0.1s\n",
      "[CV] END activation=tanh, hidden_layer_sizes=(100,), learning_rate=adaptive, solver=sgd; total time=   0.1s\n",
      "[CV] END activation=tanh, hidden_layer_sizes=(100, 50), learning_rate=constant, solver=adam; total time=   0.3s\n",
      "[CV] END activation=tanh, hidden_layer_sizes=(100, 50), learning_rate=constant, solver=adam; total time=   0.2s\n",
      "[CV] END activation=tanh, hidden_layer_sizes=(100, 50), learning_rate=constant, solver=adam; total time=   0.3s\n",
      "[CV] END activation=tanh, hidden_layer_sizes=(100, 50), learning_rate=constant, solver=adam; total time=   0.2s\n",
      "[CV] END activation=tanh, hidden_layer_sizes=(100, 50), learning_rate=constant, solver=adam; total time=   0.2s\n",
      "[CV] END activation=tanh, hidden_layer_sizes=(100, 50), learning_rate=constant, solver=sgd; total time=   0.1s\n",
      "[CV] END activation=tanh, hidden_layer_sizes=(100, 50), learning_rate=constant, solver=sgd; total time=   0.1s\n",
      "[CV] END activation=tanh, hidden_layer_sizes=(100, 50), learning_rate=constant, solver=sgd; total time=   0.1s\n",
      "[CV] END activation=tanh, hidden_layer_sizes=(100, 50), learning_rate=constant, solver=sgd; total time=   0.1s\n",
      "[CV] END activation=tanh, hidden_layer_sizes=(100, 50), learning_rate=constant, solver=sgd; total time=   0.1s\n",
      "[CV] END activation=tanh, hidden_layer_sizes=(100, 50), learning_rate=adaptive, solver=adam; total time=   0.3s\n",
      "[CV] END activation=tanh, hidden_layer_sizes=(100, 50), learning_rate=adaptive, solver=adam; total time=   0.2s\n",
      "[CV] END activation=tanh, hidden_layer_sizes=(100, 50), learning_rate=adaptive, solver=adam; total time=   0.2s\n",
      "[CV] END activation=tanh, hidden_layer_sizes=(100, 50), learning_rate=adaptive, solver=adam; total time=   0.3s\n",
      "[CV] END activation=tanh, hidden_layer_sizes=(100, 50), learning_rate=adaptive, solver=adam; total time=   0.2s\n",
      "[CV] END activation=tanh, hidden_layer_sizes=(100, 50), learning_rate=adaptive, solver=sgd; total time=   0.2s\n",
      "[CV] END activation=tanh, hidden_layer_sizes=(100, 50), learning_rate=adaptive, solver=sgd; total time=   0.2s\n",
      "[CV] END activation=tanh, hidden_layer_sizes=(100, 50), learning_rate=adaptive, solver=sgd; total time=   0.1s\n",
      "[CV] END activation=tanh, hidden_layer_sizes=(100, 50), learning_rate=adaptive, solver=sgd; total time=   0.1s\n",
      "[CV] END activation=tanh, hidden_layer_sizes=(100, 50), learning_rate=adaptive, solver=sgd; total time=   0.1s\n",
      "[CV] END activation=relu, hidden_layer_sizes=(50,), learning_rate=constant, solver=adam; total time=   0.1s\n"
     ]
    },
    {
     "name": "stderr",
     "output_type": "stream",
     "text": [
      "c:\\Users\\Elvis\\anaconda3\\Lib\\site-packages\\sklearn\\neural_network\\_multilayer_perceptron.py:691: ConvergenceWarning: Stochastic Optimizer: Maximum iterations (500) reached and the optimization hasn't converged yet.\n",
      "  warnings.warn(\n",
      "c:\\Users\\Elvis\\anaconda3\\Lib\\site-packages\\sklearn\\neural_network\\_multilayer_perceptron.py:691: ConvergenceWarning: Stochastic Optimizer: Maximum iterations (500) reached and the optimization hasn't converged yet.\n",
      "  warnings.warn(\n"
     ]
    },
    {
     "name": "stdout",
     "output_type": "stream",
     "text": [
      "[CV] END activation=relu, hidden_layer_sizes=(50,), learning_rate=constant, solver=adam; total time=   0.1s\n",
      "[CV] END activation=relu, hidden_layer_sizes=(50,), learning_rate=constant, solver=adam; total time=   0.1s\n"
     ]
    },
    {
     "name": "stderr",
     "output_type": "stream",
     "text": [
      "c:\\Users\\Elvis\\anaconda3\\Lib\\site-packages\\sklearn\\neural_network\\_multilayer_perceptron.py:691: ConvergenceWarning: Stochastic Optimizer: Maximum iterations (500) reached and the optimization hasn't converged yet.\n",
      "  warnings.warn(\n",
      "c:\\Users\\Elvis\\anaconda3\\Lib\\site-packages\\sklearn\\neural_network\\_multilayer_perceptron.py:691: ConvergenceWarning: Stochastic Optimizer: Maximum iterations (500) reached and the optimization hasn't converged yet.\n",
      "  warnings.warn(\n"
     ]
    },
    {
     "name": "stdout",
     "output_type": "stream",
     "text": [
      "[CV] END activation=relu, hidden_layer_sizes=(50,), learning_rate=constant, solver=adam; total time=   0.1s\n",
      "[CV] END activation=relu, hidden_layer_sizes=(50,), learning_rate=constant, solver=adam; total time=   0.1s\n"
     ]
    },
    {
     "name": "stderr",
     "output_type": "stream",
     "text": [
      "c:\\Users\\Elvis\\anaconda3\\Lib\\site-packages\\sklearn\\neural_network\\_multilayer_perceptron.py:691: ConvergenceWarning: Stochastic Optimizer: Maximum iterations (500) reached and the optimization hasn't converged yet.\n",
      "  warnings.warn(\n",
      "c:\\Users\\Elvis\\anaconda3\\Lib\\site-packages\\sklearn\\neural_network\\_multilayer_perceptron.py:691: ConvergenceWarning: Stochastic Optimizer: Maximum iterations (500) reached and the optimization hasn't converged yet.\n",
      "  warnings.warn(\n"
     ]
    },
    {
     "name": "stdout",
     "output_type": "stream",
     "text": [
      "[CV] END activation=relu, hidden_layer_sizes=(50,), learning_rate=constant, solver=sgd; total time=   0.1s\n",
      "[CV] END activation=relu, hidden_layer_sizes=(50,), learning_rate=constant, solver=sgd; total time=   0.1s\n"
     ]
    },
    {
     "name": "stderr",
     "output_type": "stream",
     "text": [
      "c:\\Users\\Elvis\\anaconda3\\Lib\\site-packages\\sklearn\\neural_network\\_multilayer_perceptron.py:691: ConvergenceWarning: Stochastic Optimizer: Maximum iterations (500) reached and the optimization hasn't converged yet.\n",
      "  warnings.warn(\n",
      "c:\\Users\\Elvis\\anaconda3\\Lib\\site-packages\\sklearn\\neural_network\\_multilayer_perceptron.py:691: ConvergenceWarning: Stochastic Optimizer: Maximum iterations (500) reached and the optimization hasn't converged yet.\n",
      "  warnings.warn(\n"
     ]
    },
    {
     "name": "stdout",
     "output_type": "stream",
     "text": [
      "[CV] END activation=relu, hidden_layer_sizes=(50,), learning_rate=constant, solver=sgd; total time=   0.1s\n",
      "[CV] END activation=relu, hidden_layer_sizes=(50,), learning_rate=constant, solver=sgd; total time=   0.1s\n"
     ]
    },
    {
     "name": "stderr",
     "output_type": "stream",
     "text": [
      "c:\\Users\\Elvis\\anaconda3\\Lib\\site-packages\\sklearn\\neural_network\\_multilayer_perceptron.py:691: ConvergenceWarning: Stochastic Optimizer: Maximum iterations (500) reached and the optimization hasn't converged yet.\n",
      "  warnings.warn(\n",
      "c:\\Users\\Elvis\\anaconda3\\Lib\\site-packages\\sklearn\\neural_network\\_multilayer_perceptron.py:691: ConvergenceWarning: Stochastic Optimizer: Maximum iterations (500) reached and the optimization hasn't converged yet.\n",
      "  warnings.warn(\n"
     ]
    },
    {
     "name": "stdout",
     "output_type": "stream",
     "text": [
      "[CV] END activation=relu, hidden_layer_sizes=(50,), learning_rate=constant, solver=sgd; total time=   0.1s\n",
      "[CV] END activation=relu, hidden_layer_sizes=(50,), learning_rate=adaptive, solver=adam; total time=   0.1s\n"
     ]
    },
    {
     "name": "stderr",
     "output_type": "stream",
     "text": [
      "c:\\Users\\Elvis\\anaconda3\\Lib\\site-packages\\sklearn\\neural_network\\_multilayer_perceptron.py:691: ConvergenceWarning: Stochastic Optimizer: Maximum iterations (500) reached and the optimization hasn't converged yet.\n",
      "  warnings.warn(\n",
      "c:\\Users\\Elvis\\anaconda3\\Lib\\site-packages\\sklearn\\neural_network\\_multilayer_perceptron.py:691: ConvergenceWarning: Stochastic Optimizer: Maximum iterations (500) reached and the optimization hasn't converged yet.\n",
      "  warnings.warn(\n"
     ]
    },
    {
     "name": "stdout",
     "output_type": "stream",
     "text": [
      "[CV] END activation=relu, hidden_layer_sizes=(50,), learning_rate=adaptive, solver=adam; total time=   0.1s\n",
      "[CV] END activation=relu, hidden_layer_sizes=(50,), learning_rate=adaptive, solver=adam; total time=   0.1s\n"
     ]
    },
    {
     "name": "stderr",
     "output_type": "stream",
     "text": [
      "c:\\Users\\Elvis\\anaconda3\\Lib\\site-packages\\sklearn\\neural_network\\_multilayer_perceptron.py:691: ConvergenceWarning: Stochastic Optimizer: Maximum iterations (500) reached and the optimization hasn't converged yet.\n",
      "  warnings.warn(\n",
      "c:\\Users\\Elvis\\anaconda3\\Lib\\site-packages\\sklearn\\neural_network\\_multilayer_perceptron.py:691: ConvergenceWarning: Stochastic Optimizer: Maximum iterations (500) reached and the optimization hasn't converged yet.\n",
      "  warnings.warn(\n"
     ]
    },
    {
     "name": "stdout",
     "output_type": "stream",
     "text": [
      "[CV] END activation=relu, hidden_layer_sizes=(50,), learning_rate=adaptive, solver=adam; total time=   0.1s\n",
      "[CV] END activation=relu, hidden_layer_sizes=(50,), learning_rate=adaptive, solver=adam; total time=   0.1s\n"
     ]
    },
    {
     "name": "stderr",
     "output_type": "stream",
     "text": [
      "c:\\Users\\Elvis\\anaconda3\\Lib\\site-packages\\sklearn\\neural_network\\_multilayer_perceptron.py:691: ConvergenceWarning: Stochastic Optimizer: Maximum iterations (500) reached and the optimization hasn't converged yet.\n",
      "  warnings.warn(\n",
      "c:\\Users\\Elvis\\anaconda3\\Lib\\site-packages\\sklearn\\neural_network\\_multilayer_perceptron.py:691: ConvergenceWarning: Stochastic Optimizer: Maximum iterations (500) reached and the optimization hasn't converged yet.\n",
      "  warnings.warn(\n"
     ]
    },
    {
     "name": "stdout",
     "output_type": "stream",
     "text": [
      "[CV] END activation=relu, hidden_layer_sizes=(50,), learning_rate=adaptive, solver=sgd; total time=   0.1s\n",
      "[CV] END activation=relu, hidden_layer_sizes=(50,), learning_rate=adaptive, solver=sgd; total time=   0.0s\n"
     ]
    },
    {
     "name": "stderr",
     "output_type": "stream",
     "text": [
      "c:\\Users\\Elvis\\anaconda3\\Lib\\site-packages\\sklearn\\neural_network\\_multilayer_perceptron.py:691: ConvergenceWarning: Stochastic Optimizer: Maximum iterations (500) reached and the optimization hasn't converged yet.\n",
      "  warnings.warn(\n",
      "c:\\Users\\Elvis\\anaconda3\\Lib\\site-packages\\sklearn\\neural_network\\_multilayer_perceptron.py:691: ConvergenceWarning: Stochastic Optimizer: Maximum iterations (500) reached and the optimization hasn't converged yet.\n",
      "  warnings.warn(\n"
     ]
    },
    {
     "name": "stdout",
     "output_type": "stream",
     "text": [
      "[CV] END activation=relu, hidden_layer_sizes=(50,), learning_rate=adaptive, solver=sgd; total time=   0.0s\n",
      "[CV] END activation=relu, hidden_layer_sizes=(50,), learning_rate=adaptive, solver=sgd; total time=   0.1s\n"
     ]
    },
    {
     "name": "stderr",
     "output_type": "stream",
     "text": [
      "c:\\Users\\Elvis\\anaconda3\\Lib\\site-packages\\sklearn\\neural_network\\_multilayer_perceptron.py:691: ConvergenceWarning: Stochastic Optimizer: Maximum iterations (500) reached and the optimization hasn't converged yet.\n",
      "  warnings.warn(\n",
      "c:\\Users\\Elvis\\anaconda3\\Lib\\site-packages\\sklearn\\neural_network\\_multilayer_perceptron.py:691: ConvergenceWarning: Stochastic Optimizer: Maximum iterations (500) reached and the optimization hasn't converged yet.\n",
      "  warnings.warn(\n"
     ]
    },
    {
     "name": "stdout",
     "output_type": "stream",
     "text": [
      "[CV] END activation=relu, hidden_layer_sizes=(50,), learning_rate=adaptive, solver=sgd; total time=   0.0s\n",
      "[CV] END activation=relu, hidden_layer_sizes=(100,), learning_rate=constant, solver=adam; total time=   0.1s\n"
     ]
    },
    {
     "name": "stderr",
     "output_type": "stream",
     "text": [
      "c:\\Users\\Elvis\\anaconda3\\Lib\\site-packages\\sklearn\\neural_network\\_multilayer_perceptron.py:691: ConvergenceWarning: Stochastic Optimizer: Maximum iterations (500) reached and the optimization hasn't converged yet.\n",
      "  warnings.warn(\n",
      "c:\\Users\\Elvis\\anaconda3\\Lib\\site-packages\\sklearn\\neural_network\\_multilayer_perceptron.py:691: ConvergenceWarning: Stochastic Optimizer: Maximum iterations (500) reached and the optimization hasn't converged yet.\n",
      "  warnings.warn(\n"
     ]
    },
    {
     "name": "stdout",
     "output_type": "stream",
     "text": [
      "[CV] END activation=relu, hidden_layer_sizes=(100,), learning_rate=constant, solver=adam; total time=   0.1s\n"
     ]
    },
    {
     "name": "stderr",
     "output_type": "stream",
     "text": [
      "c:\\Users\\Elvis\\anaconda3\\Lib\\site-packages\\sklearn\\neural_network\\_multilayer_perceptron.py:691: ConvergenceWarning: Stochastic Optimizer: Maximum iterations (500) reached and the optimization hasn't converged yet.\n",
      "  warnings.warn(\n",
      "c:\\Users\\Elvis\\anaconda3\\Lib\\site-packages\\sklearn\\neural_network\\_multilayer_perceptron.py:691: ConvergenceWarning: Stochastic Optimizer: Maximum iterations (500) reached and the optimization hasn't converged yet.\n",
      "  warnings.warn(\n"
     ]
    },
    {
     "name": "stdout",
     "output_type": "stream",
     "text": [
      "[CV] END activation=relu, hidden_layer_sizes=(100,), learning_rate=constant, solver=adam; total time=   0.1s\n",
      "[CV] END activation=relu, hidden_layer_sizes=(100,), learning_rate=constant, solver=adam; total time=   0.1s\n"
     ]
    },
    {
     "name": "stderr",
     "output_type": "stream",
     "text": [
      "c:\\Users\\Elvis\\anaconda3\\Lib\\site-packages\\sklearn\\neural_network\\_multilayer_perceptron.py:691: ConvergenceWarning: Stochastic Optimizer: Maximum iterations (500) reached and the optimization hasn't converged yet.\n",
      "  warnings.warn(\n"
     ]
    },
    {
     "name": "stdout",
     "output_type": "stream",
     "text": [
      "[CV] END activation=relu, hidden_layer_sizes=(100,), learning_rate=constant, solver=adam; total time=   0.2s\n"
     ]
    },
    {
     "name": "stderr",
     "output_type": "stream",
     "text": [
      "c:\\Users\\Elvis\\anaconda3\\Lib\\site-packages\\sklearn\\neural_network\\_multilayer_perceptron.py:691: ConvergenceWarning: Stochastic Optimizer: Maximum iterations (500) reached and the optimization hasn't converged yet.\n",
      "  warnings.warn(\n",
      "c:\\Users\\Elvis\\anaconda3\\Lib\\site-packages\\sklearn\\neural_network\\_multilayer_perceptron.py:691: ConvergenceWarning: Stochastic Optimizer: Maximum iterations (500) reached and the optimization hasn't converged yet.\n",
      "  warnings.warn(\n"
     ]
    },
    {
     "name": "stdout",
     "output_type": "stream",
     "text": [
      "[CV] END activation=relu, hidden_layer_sizes=(100,), learning_rate=constant, solver=sgd; total time=   0.1s\n",
      "[CV] END activation=relu, hidden_layer_sizes=(100,), learning_rate=constant, solver=sgd; total time=   0.1s\n"
     ]
    },
    {
     "name": "stderr",
     "output_type": "stream",
     "text": [
      "c:\\Users\\Elvis\\anaconda3\\Lib\\site-packages\\sklearn\\neural_network\\_multilayer_perceptron.py:691: ConvergenceWarning: Stochastic Optimizer: Maximum iterations (500) reached and the optimization hasn't converged yet.\n",
      "  warnings.warn(\n",
      "c:\\Users\\Elvis\\anaconda3\\Lib\\site-packages\\sklearn\\neural_network\\_multilayer_perceptron.py:691: ConvergenceWarning: Stochastic Optimizer: Maximum iterations (500) reached and the optimization hasn't converged yet.\n",
      "  warnings.warn(\n"
     ]
    },
    {
     "name": "stdout",
     "output_type": "stream",
     "text": [
      "[CV] END activation=relu, hidden_layer_sizes=(100,), learning_rate=constant, solver=sgd; total time=   0.1s\n",
      "[CV] END activation=relu, hidden_layer_sizes=(100,), learning_rate=constant, solver=sgd; total time=   0.1s\n"
     ]
    },
    {
     "name": "stderr",
     "output_type": "stream",
     "text": [
      "c:\\Users\\Elvis\\anaconda3\\Lib\\site-packages\\sklearn\\neural_network\\_multilayer_perceptron.py:691: ConvergenceWarning: Stochastic Optimizer: Maximum iterations (500) reached and the optimization hasn't converged yet.\n",
      "  warnings.warn(\n",
      "c:\\Users\\Elvis\\anaconda3\\Lib\\site-packages\\sklearn\\neural_network\\_multilayer_perceptron.py:691: ConvergenceWarning: Stochastic Optimizer: Maximum iterations (500) reached and the optimization hasn't converged yet.\n",
      "  warnings.warn(\n"
     ]
    },
    {
     "name": "stdout",
     "output_type": "stream",
     "text": [
      "[CV] END activation=relu, hidden_layer_sizes=(100,), learning_rate=constant, solver=sgd; total time=   0.1s\n",
      "[CV] END activation=relu, hidden_layer_sizes=(100,), learning_rate=adaptive, solver=adam; total time=   0.1s\n"
     ]
    },
    {
     "name": "stderr",
     "output_type": "stream",
     "text": [
      "c:\\Users\\Elvis\\anaconda3\\Lib\\site-packages\\sklearn\\neural_network\\_multilayer_perceptron.py:691: ConvergenceWarning: Stochastic Optimizer: Maximum iterations (500) reached and the optimization hasn't converged yet.\n",
      "  warnings.warn(\n",
      "c:\\Users\\Elvis\\anaconda3\\Lib\\site-packages\\sklearn\\neural_network\\_multilayer_perceptron.py:691: ConvergenceWarning: Stochastic Optimizer: Maximum iterations (500) reached and the optimization hasn't converged yet.\n",
      "  warnings.warn(\n"
     ]
    },
    {
     "name": "stdout",
     "output_type": "stream",
     "text": [
      "[CV] END activation=relu, hidden_layer_sizes=(100,), learning_rate=adaptive, solver=adam; total time=   0.1s\n",
      "[CV] END activation=relu, hidden_layer_sizes=(100,), learning_rate=adaptive, solver=adam; total time=   0.1s\n"
     ]
    },
    {
     "name": "stderr",
     "output_type": "stream",
     "text": [
      "c:\\Users\\Elvis\\anaconda3\\Lib\\site-packages\\sklearn\\neural_network\\_multilayer_perceptron.py:691: ConvergenceWarning: Stochastic Optimizer: Maximum iterations (500) reached and the optimization hasn't converged yet.\n",
      "  warnings.warn(\n",
      "c:\\Users\\Elvis\\anaconda3\\Lib\\site-packages\\sklearn\\neural_network\\_multilayer_perceptron.py:691: ConvergenceWarning: Stochastic Optimizer: Maximum iterations (500) reached and the optimization hasn't converged yet.\n",
      "  warnings.warn(\n"
     ]
    },
    {
     "name": "stdout",
     "output_type": "stream",
     "text": [
      "[CV] END activation=relu, hidden_layer_sizes=(100,), learning_rate=adaptive, solver=adam; total time=   0.1s\n",
      "[CV] END activation=relu, hidden_layer_sizes=(100,), learning_rate=adaptive, solver=adam; total time=   0.1s\n"
     ]
    },
    {
     "name": "stderr",
     "output_type": "stream",
     "text": [
      "c:\\Users\\Elvis\\anaconda3\\Lib\\site-packages\\sklearn\\neural_network\\_multilayer_perceptron.py:691: ConvergenceWarning: Stochastic Optimizer: Maximum iterations (500) reached and the optimization hasn't converged yet.\n",
      "  warnings.warn(\n"
     ]
    },
    {
     "name": "stdout",
     "output_type": "stream",
     "text": [
      "[CV] END activation=relu, hidden_layer_sizes=(100,), learning_rate=adaptive, solver=sgd; total time=   0.1s\n"
     ]
    },
    {
     "name": "stderr",
     "output_type": "stream",
     "text": [
      "c:\\Users\\Elvis\\anaconda3\\Lib\\site-packages\\sklearn\\neural_network\\_multilayer_perceptron.py:691: ConvergenceWarning: Stochastic Optimizer: Maximum iterations (500) reached and the optimization hasn't converged yet.\n",
      "  warnings.warn(\n"
     ]
    },
    {
     "name": "stdout",
     "output_type": "stream",
     "text": [
      "[CV] END activation=relu, hidden_layer_sizes=(100,), learning_rate=adaptive, solver=sgd; total time=   0.1s\n"
     ]
    },
    {
     "name": "stderr",
     "output_type": "stream",
     "text": [
      "c:\\Users\\Elvis\\anaconda3\\Lib\\site-packages\\sklearn\\neural_network\\_multilayer_perceptron.py:691: ConvergenceWarning: Stochastic Optimizer: Maximum iterations (500) reached and the optimization hasn't converged yet.\n",
      "  warnings.warn(\n"
     ]
    },
    {
     "name": "stdout",
     "output_type": "stream",
     "text": [
      "[CV] END activation=relu, hidden_layer_sizes=(100,), learning_rate=adaptive, solver=sgd; total time=   0.1s\n"
     ]
    },
    {
     "name": "stderr",
     "output_type": "stream",
     "text": [
      "c:\\Users\\Elvis\\anaconda3\\Lib\\site-packages\\sklearn\\neural_network\\_multilayer_perceptron.py:691: ConvergenceWarning: Stochastic Optimizer: Maximum iterations (500) reached and the optimization hasn't converged yet.\n",
      "  warnings.warn(\n",
      "c:\\Users\\Elvis\\anaconda3\\Lib\\site-packages\\sklearn\\neural_network\\_multilayer_perceptron.py:691: ConvergenceWarning: Stochastic Optimizer: Maximum iterations (500) reached and the optimization hasn't converged yet.\n",
      "  warnings.warn(\n"
     ]
    },
    {
     "name": "stdout",
     "output_type": "stream",
     "text": [
      "[CV] END activation=relu, hidden_layer_sizes=(100,), learning_rate=adaptive, solver=sgd; total time=   0.1s\n",
      "[CV] END activation=relu, hidden_layer_sizes=(100,), learning_rate=adaptive, solver=sgd; total time=   0.1s\n",
      "[CV] END activation=relu, hidden_layer_sizes=(100, 50), learning_rate=constant, solver=adam; total time=   0.1s\n",
      "[CV] END activation=relu, hidden_layer_sizes=(100, 50), learning_rate=constant, solver=adam; total time=   0.1s\n",
      "[CV] END activation=relu, hidden_layer_sizes=(100, 50), learning_rate=constant, solver=adam; total time=   0.1s\n",
      "[CV] END activation=relu, hidden_layer_sizes=(100, 50), learning_rate=constant, solver=adam; total time=   0.1s\n",
      "[CV] END activation=relu, hidden_layer_sizes=(100, 50), learning_rate=constant, solver=adam; total time=   0.1s\n"
     ]
    },
    {
     "name": "stderr",
     "output_type": "stream",
     "text": [
      "c:\\Users\\Elvis\\anaconda3\\Lib\\site-packages\\sklearn\\neural_network\\_multilayer_perceptron.py:691: ConvergenceWarning: Stochastic Optimizer: Maximum iterations (500) reached and the optimization hasn't converged yet.\n",
      "  warnings.warn(\n"
     ]
    },
    {
     "name": "stdout",
     "output_type": "stream",
     "text": [
      "[CV] END activation=relu, hidden_layer_sizes=(100, 50), learning_rate=constant, solver=sgd; total time=   0.2s\n"
     ]
    },
    {
     "name": "stderr",
     "output_type": "stream",
     "text": [
      "c:\\Users\\Elvis\\anaconda3\\Lib\\site-packages\\sklearn\\neural_network\\_multilayer_perceptron.py:691: ConvergenceWarning: Stochastic Optimizer: Maximum iterations (500) reached and the optimization hasn't converged yet.\n",
      "  warnings.warn(\n"
     ]
    },
    {
     "name": "stdout",
     "output_type": "stream",
     "text": [
      "[CV] END activation=relu, hidden_layer_sizes=(100, 50), learning_rate=constant, solver=sgd; total time=   0.2s\n"
     ]
    },
    {
     "name": "stderr",
     "output_type": "stream",
     "text": [
      "c:\\Users\\Elvis\\anaconda3\\Lib\\site-packages\\sklearn\\neural_network\\_multilayer_perceptron.py:691: ConvergenceWarning: Stochastic Optimizer: Maximum iterations (500) reached and the optimization hasn't converged yet.\n",
      "  warnings.warn(\n"
     ]
    },
    {
     "name": "stdout",
     "output_type": "stream",
     "text": [
      "[CV] END activation=relu, hidden_layer_sizes=(100, 50), learning_rate=constant, solver=sgd; total time=   0.2s\n"
     ]
    },
    {
     "name": "stderr",
     "output_type": "stream",
     "text": [
      "c:\\Users\\Elvis\\anaconda3\\Lib\\site-packages\\sklearn\\neural_network\\_multilayer_perceptron.py:691: ConvergenceWarning: Stochastic Optimizer: Maximum iterations (500) reached and the optimization hasn't converged yet.\n",
      "  warnings.warn(\n"
     ]
    },
    {
     "name": "stdout",
     "output_type": "stream",
     "text": [
      "[CV] END activation=relu, hidden_layer_sizes=(100, 50), learning_rate=constant, solver=sgd; total time=   0.2s\n"
     ]
    },
    {
     "name": "stderr",
     "output_type": "stream",
     "text": [
      "c:\\Users\\Elvis\\anaconda3\\Lib\\site-packages\\sklearn\\neural_network\\_multilayer_perceptron.py:691: ConvergenceWarning: Stochastic Optimizer: Maximum iterations (500) reached and the optimization hasn't converged yet.\n",
      "  warnings.warn(\n"
     ]
    },
    {
     "name": "stdout",
     "output_type": "stream",
     "text": [
      "[CV] END activation=relu, hidden_layer_sizes=(100, 50), learning_rate=constant, solver=sgd; total time=   0.2s\n",
      "[CV] END activation=relu, hidden_layer_sizes=(100, 50), learning_rate=adaptive, solver=adam; total time=   0.1s\n",
      "[CV] END activation=relu, hidden_layer_sizes=(100, 50), learning_rate=adaptive, solver=adam; total time=   0.1s\n",
      "[CV] END activation=relu, hidden_layer_sizes=(100, 50), learning_rate=adaptive, solver=adam; total time=   0.1s\n",
      "[CV] END activation=relu, hidden_layer_sizes=(100, 50), learning_rate=adaptive, solver=adam; total time=   0.1s\n",
      "[CV] END activation=relu, hidden_layer_sizes=(100, 50), learning_rate=adaptive, solver=adam; total time=   0.1s\n"
     ]
    },
    {
     "name": "stderr",
     "output_type": "stream",
     "text": [
      "c:\\Users\\Elvis\\anaconda3\\Lib\\site-packages\\sklearn\\neural_network\\_multilayer_perceptron.py:691: ConvergenceWarning: Stochastic Optimizer: Maximum iterations (500) reached and the optimization hasn't converged yet.\n",
      "  warnings.warn(\n"
     ]
    },
    {
     "name": "stdout",
     "output_type": "stream",
     "text": [
      "[CV] END activation=relu, hidden_layer_sizes=(100, 50), learning_rate=adaptive, solver=sgd; total time=   0.2s\n"
     ]
    },
    {
     "name": "stderr",
     "output_type": "stream",
     "text": [
      "c:\\Users\\Elvis\\anaconda3\\Lib\\site-packages\\sklearn\\neural_network\\_multilayer_perceptron.py:691: ConvergenceWarning: Stochastic Optimizer: Maximum iterations (500) reached and the optimization hasn't converged yet.\n",
      "  warnings.warn(\n"
     ]
    },
    {
     "name": "stdout",
     "output_type": "stream",
     "text": [
      "[CV] END activation=relu, hidden_layer_sizes=(100, 50), learning_rate=adaptive, solver=sgd; total time=   0.2s\n"
     ]
    },
    {
     "name": "stderr",
     "output_type": "stream",
     "text": [
      "c:\\Users\\Elvis\\anaconda3\\Lib\\site-packages\\sklearn\\neural_network\\_multilayer_perceptron.py:691: ConvergenceWarning: Stochastic Optimizer: Maximum iterations (500) reached and the optimization hasn't converged yet.\n",
      "  warnings.warn(\n"
     ]
    },
    {
     "name": "stdout",
     "output_type": "stream",
     "text": [
      "[CV] END activation=relu, hidden_layer_sizes=(100, 50), learning_rate=adaptive, solver=sgd; total time=   0.2s\n"
     ]
    },
    {
     "name": "stderr",
     "output_type": "stream",
     "text": [
      "c:\\Users\\Elvis\\anaconda3\\Lib\\site-packages\\sklearn\\neural_network\\_multilayer_perceptron.py:691: ConvergenceWarning: Stochastic Optimizer: Maximum iterations (500) reached and the optimization hasn't converged yet.\n",
      "  warnings.warn(\n"
     ]
    },
    {
     "name": "stdout",
     "output_type": "stream",
     "text": [
      "[CV] END activation=relu, hidden_layer_sizes=(100, 50), learning_rate=adaptive, solver=sgd; total time=   0.2s\n"
     ]
    },
    {
     "name": "stderr",
     "output_type": "stream",
     "text": [
      "c:\\Users\\Elvis\\anaconda3\\Lib\\site-packages\\sklearn\\neural_network\\_multilayer_perceptron.py:691: ConvergenceWarning: Stochastic Optimizer: Maximum iterations (500) reached and the optimization hasn't converged yet.\n",
      "  warnings.warn(\n"
     ]
    },
    {
     "name": "stdout",
     "output_type": "stream",
     "text": [
      "[CV] END activation=relu, hidden_layer_sizes=(100, 50), learning_rate=adaptive, solver=sgd; total time=   0.3s\n",
      "Best MLP parameters (Clinical): {'activation': 'relu', 'hidden_layer_sizes': (100,), 'learning_rate': 'constant', 'solver': 'sgd'}\n",
      "Tuned MLP Accuracy (Clinical): 0.8351648351648352\n",
      "              precision    recall  f1-score   support\n",
      "\n",
      "           0       0.81      0.83      0.82        41\n",
      "           1       0.86      0.84      0.85        50\n",
      "\n",
      "    accuracy                           0.84        91\n",
      "   macro avg       0.83      0.83      0.83        91\n",
      "weighted avg       0.84      0.84      0.84        91\n",
      "\n"
     ]
    },
    {
     "name": "stderr",
     "output_type": "stream",
     "text": [
      "c:\\Users\\Elvis\\anaconda3\\Lib\\site-packages\\sklearn\\neural_network\\_multilayer_perceptron.py:691: ConvergenceWarning: Stochastic Optimizer: Maximum iterations (500) reached and the optimization hasn't converged yet.\n",
      "  warnings.warn(\n"
     ]
    }
   ],
   "source": [
    "from sklearn.neural_network import MLPClassifier\n",
    "from sklearn.model_selection import GridSearchCV\n",
    "from sklearn.metrics import accuracy_score, classification_report\n",
    "\n",
    "# Define hyperparameter grid for MLP (clinical dataset)\n",
    "mlp_param_grid_clinical = {\n",
    "    'hidden_layer_sizes': [(50,), (100,), (100, 50)],  # Different architectures\n",
    "    'activation': ['tanh', 'relu'],  # Activation functions\n",
    "    'solver': ['adam', 'sgd'],  # Different solvers for weight optimization\n",
    "    'learning_rate': ['constant', 'adaptive'],  # Learning rate strategy\n",
    "}\n",
    "\n",
    "# Apply GridSearchCV for MLP (clinical dataset)\n",
    "mlp_grid_clinical = GridSearchCV(MLPClassifier(max_iter=500, random_state=42), mlp_param_grid_clinical, cv=5, verbose=2)\n",
    "mlp_grid_clinical.fit(Xclinical_train_resampled, Yclinical_train_resampled)\n",
    "\n",
    "# Print the best hyperparameters for MLP (clinical dataset)\n",
    "print(f'Best MLP parameters (Clinical): {mlp_grid_clinical.best_params_}')\n",
    "\n",
    "# Evaluate the tuned MLP model on the clinical test set\n",
    "Y_pred_mlp_clinical_tuned = mlp_grid_clinical.best_estimator_.predict(Xclinical_test)\n",
    "print(f'Tuned MLP Accuracy (Clinical): {accuracy_score(Yclinical_test, Y_pred_mlp_clinical_tuned)}')\n",
    "print(classification_report(Yclinical_test, Y_pred_mlp_clinical_tuned))\n"
   ]
  },
  {
   "cell_type": "code",
   "execution_count": 16,
   "metadata": {},
   "outputs": [
    {
     "data": {
      "image/png": "[encoded data removed]",
      "text/plain": [
       "<Figure size 640x480 with 1 Axes>"
      ]
     },
     "metadata": {},
     "output_type": "display_data"
    },
    {
     "data": {
      "image/png": "[encoded data removed]",
      "text/plain": [
       "<Figure size 640x480 with 1 Axes>"
      ]
     },
     "metadata": {},
     "output_type": "display_data"
    }
   ],
   "source": [
    "from sklearn.metrics import roc_curve, roc_auc_score\n",
    "import matplotlib.pyplot as plt\n",
    "\n",
    "# For the SVC model (use decision function for ROC)\n",
    "Yclinical_svc_scores = svc_grid_clinical.best_estimator_.decision_function(Xclinical_test)\n",
    "fpr_svc_clinical, tpr_svc_clinical, _ = roc_curve(Yclinical_test, Yclinical_svc_scores)\n",
    "roc_auc_svc_clinical = roc_auc_score(Yclinical_test, Yclinical_svc_scores)\n",
    "\n",
    "# Plot the ROC curve for the tuned SVC model (clinical dataset)\n",
    "plt.figure()\n",
    "plt.plot(fpr_svc_clinical, tpr_svc_clinical, label=f'SVC (AUC = {roc_auc_svc_clinical:.2f})')\n",
    "plt.plot([0, 1], [0, 1], 'k--')  # Diagonal line for random guessing\n",
    "plt.xlabel('False Positive Rate')\n",
    "plt.ylabel('True Positive Rate')\n",
    "plt.title('ROC Curve - Tuned SVC (Clinical Dataset)')\n",
    "plt.legend()\n",
    "plt.show()\n",
    "\n",
    "# For the MLP model (use probabilities for ROC)\n",
    "Yclinical_mlp_probs = mlp_grid_clinical.best_estimator_.predict_proba(Xclinical_test)[:, 1]\n",
    "fpr_mlp_clinical, tpr_mlp_clinical, _ = roc_curve(Yclinical_test, Yclinical_mlp_probs)\n",
    "roc_auc_mlp_clinical = roc_auc_score(Yclinical_test, Yclinical_mlp_probs)\n",
    "\n",
    "# Plot the ROC curve for the tuned MLP model (clinical dataset)\n",
    "plt.figure()\n",
    "plt.plot(fpr_mlp_clinical, tpr_mlp_clinical, label=f'MLP (AUC = {roc_auc_mlp_clinical:.2f})')\n",
    "plt.plot([0, 1], [0, 1], 'k--')\n",
    "plt.xlabel('False Positive Rate')\n",
    "plt.ylabel('True Positive Rate')\n",
    "plt.title('ROC Curve - Tuned MLP (Clinical Dataset)')\n",
    "plt.legend()\n",
    "plt.show()\n"
   ]
  },
  {
   "cell_type": "markdown",
   "metadata": {},
   "source": [
    "Hyperparamter tuning yielded significant results from a ROC curve that was original just diagonal to one that is working. \n",
    "\n",
    "\n",
    "Suggested actions:\n",
    "\n",
    "Try Hyperparameter tuning for random forest"
   ]
  },
  {
   "cell_type": "markdown",
   "metadata": {},
   "source": []
  }
 ],
 "metadata": {
  "kernelspec": {
   "display_name": "base",
   "language": "python",
   "name": "python3"
  },
  "language_info": {
   "codemirror_mode": {
    "name": "ipython",
    "version": 3
   },
   "file_extension": ".py",
   "mimetype": "text/x-python",
   "name": "python",
   "nbconvert_exporter": "python",
   "pygments_lexer": "ipython3",
   "version": "3.12.4"
  }
 },
 "nbformat": 4,
 "nbformat_minor": 2
}
